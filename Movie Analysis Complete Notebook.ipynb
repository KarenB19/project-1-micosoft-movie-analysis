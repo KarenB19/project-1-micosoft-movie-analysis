{
 "cells": [
  {
   "cell_type": "markdown",
   "metadata": {},
   "source": [
    "![example](images/director_shot.jpeg)"
   ]
  },
  {
   "cell_type": "markdown",
   "metadata": {},
   "source": [
    "# Microsoft Movie Analysis\n",
    "\n",
    "**Author:** Karen Ballard\n",
    "***"
   ]
  },
  {
   "cell_type": "markdown",
   "metadata": {},
   "source": [
    "## Overview\n",
    "\n",
    "Microsoft have decided to create a new movie studio and require more insight into which types of films are doing best at the box office. This project uses descriptive statistical analysis on data gathered from IMDb website to gain insight into which combination of genres topped the league in these areas. Three seperate datasets were used for this analysis to gain insight into which combination genres of movies topped the domestic gross sales, foreign gross sales, had the top average ratings and number of votes. The results of the top 20 combination genres in Domestic Sales, Foreign Sales and number of votes was clearly the combination Action, Adventure & Sci-Fi, with adventure being present in the majority of the top 20 of the 3 categories. My recommendation for which type of Movie to produce would be Action, Adventure & Sci-Fi as this is the most predominant combination in the analysis, there were 260 unique genre combinations in this data set after cleaning. I would also highly recommend that Adventure and Action paired with either Animation or Fantasy is a successful combination. In Domestic and Foreign Sales the combination Adventure, Animation & Comedy also faired well which would be my third recommendation. Adventure was clearly a strong genre for popular successful movies.\n"
   ]
  },
  {
   "cell_type": "markdown",
   "metadata": {},
   "source": [
    "## Business Problem\n",
    "\n",
    "Microsoft want to produce movies that are going to be successful in order to make profits, they want to know which types of movies are the most successful. To answer that question both Domestic and Foreign Sales data was analysed to see the most financially successful genres, along with the average rating given and number of votes for each type or genre of movie to see how popularity compared with financial success.\n",
    "\n",
    "***"
   ]
  },
  {
   "cell_type": "markdown",
   "metadata": {},
   "source": [
    "## Data Understanding\n",
    "\n",
    "The data analysed came from IMDb website. IMDb (an acronym for Internet Movie Database) is a popular worldwide online database of infomation relating to all movies, television programs, video games and streaming content online. I used 3 files from IMDb to answer the question of which genres were most successful, mainly focusing on the Domestic and Foreign Gross sales along with average ratings given and number of votes received.\n"
   ]
  },
  {
   "cell_type": "code",
   "execution_count": 1,
   "metadata": {},
   "outputs": [],
   "source": [
    "# Import standard packages\n",
    "import pandas as pd\n",
    "import numpy as np\n",
    "import matplotlib.pyplot as plt\n",
    "import seaborn as sns\n",
    "\n",
    "%matplotlib inline"
   ]
  },
  {
   "cell_type": "code",
   "execution_count": 2,
   "metadata": {},
   "outputs": [],
   "source": [
    "# Here you run your code to explore the data\n",
    "#bring in data set bom movie gross\n",
    "df_movie_gross=pd.read_csv('bom.movie_gross (1).csv.gz')"
   ]
  },
  {
   "cell_type": "code",
   "execution_count": 3,
   "metadata": {},
   "outputs": [
    {
     "data": {
      "text/html": [
       "<div>\n",
       "<style scoped>\n",
       "    .dataframe tbody tr th:only-of-type {\n",
       "        vertical-align: middle;\n",
       "    }\n",
       "\n",
       "    .dataframe tbody tr th {\n",
       "        vertical-align: top;\n",
       "    }\n",
       "\n",
       "    .dataframe thead th {\n",
       "        text-align: right;\n",
       "    }\n",
       "</style>\n",
       "<table border=\"1\" class=\"dataframe\">\n",
       "  <thead>\n",
       "    <tr style=\"text-align: right;\">\n",
       "      <th></th>\n",
       "      <th>title</th>\n",
       "      <th>studio</th>\n",
       "      <th>domestic_gross</th>\n",
       "      <th>foreign_gross</th>\n",
       "      <th>year</th>\n",
       "    </tr>\n",
       "  </thead>\n",
       "  <tbody>\n",
       "    <tr>\n",
       "      <th>0</th>\n",
       "      <td>Toy Story 3</td>\n",
       "      <td>BV</td>\n",
       "      <td>415000000.0</td>\n",
       "      <td>652000000</td>\n",
       "      <td>2010</td>\n",
       "    </tr>\n",
       "    <tr>\n",
       "      <th>1</th>\n",
       "      <td>Alice in Wonderland (2010)</td>\n",
       "      <td>BV</td>\n",
       "      <td>334200000.0</td>\n",
       "      <td>691300000</td>\n",
       "      <td>2010</td>\n",
       "    </tr>\n",
       "    <tr>\n",
       "      <th>2</th>\n",
       "      <td>Harry Potter and the Deathly Hallows Part 1</td>\n",
       "      <td>WB</td>\n",
       "      <td>296000000.0</td>\n",
       "      <td>664300000</td>\n",
       "      <td>2010</td>\n",
       "    </tr>\n",
       "    <tr>\n",
       "      <th>3</th>\n",
       "      <td>Inception</td>\n",
       "      <td>WB</td>\n",
       "      <td>292600000.0</td>\n",
       "      <td>535700000</td>\n",
       "      <td>2010</td>\n",
       "    </tr>\n",
       "    <tr>\n",
       "      <th>4</th>\n",
       "      <td>Shrek Forever After</td>\n",
       "      <td>P/DW</td>\n",
       "      <td>238700000.0</td>\n",
       "      <td>513900000</td>\n",
       "      <td>2010</td>\n",
       "    </tr>\n",
       "    <tr>\n",
       "      <th>...</th>\n",
       "      <td>...</td>\n",
       "      <td>...</td>\n",
       "      <td>...</td>\n",
       "      <td>...</td>\n",
       "      <td>...</td>\n",
       "    </tr>\n",
       "    <tr>\n",
       "      <th>3382</th>\n",
       "      <td>The Quake</td>\n",
       "      <td>Magn.</td>\n",
       "      <td>6200.0</td>\n",
       "      <td>NaN</td>\n",
       "      <td>2018</td>\n",
       "    </tr>\n",
       "    <tr>\n",
       "      <th>3383</th>\n",
       "      <td>Edward II (2018 re-release)</td>\n",
       "      <td>FM</td>\n",
       "      <td>4800.0</td>\n",
       "      <td>NaN</td>\n",
       "      <td>2018</td>\n",
       "    </tr>\n",
       "    <tr>\n",
       "      <th>3384</th>\n",
       "      <td>El Pacto</td>\n",
       "      <td>Sony</td>\n",
       "      <td>2500.0</td>\n",
       "      <td>NaN</td>\n",
       "      <td>2018</td>\n",
       "    </tr>\n",
       "    <tr>\n",
       "      <th>3385</th>\n",
       "      <td>The Swan</td>\n",
       "      <td>Synergetic</td>\n",
       "      <td>2400.0</td>\n",
       "      <td>NaN</td>\n",
       "      <td>2018</td>\n",
       "    </tr>\n",
       "    <tr>\n",
       "      <th>3386</th>\n",
       "      <td>An Actor Prepares</td>\n",
       "      <td>Grav.</td>\n",
       "      <td>1700.0</td>\n",
       "      <td>NaN</td>\n",
       "      <td>2018</td>\n",
       "    </tr>\n",
       "  </tbody>\n",
       "</table>\n",
       "<p>3387 rows × 5 columns</p>\n",
       "</div>"
      ],
      "text/plain": [
       "                                            title      studio  domestic_gross  \\\n",
       "0                                     Toy Story 3          BV     415000000.0   \n",
       "1                      Alice in Wonderland (2010)          BV     334200000.0   \n",
       "2     Harry Potter and the Deathly Hallows Part 1          WB     296000000.0   \n",
       "3                                       Inception          WB     292600000.0   \n",
       "4                             Shrek Forever After        P/DW     238700000.0   \n",
       "...                                           ...         ...             ...   \n",
       "3382                                    The Quake       Magn.          6200.0   \n",
       "3383                  Edward II (2018 re-release)          FM          4800.0   \n",
       "3384                                     El Pacto        Sony          2500.0   \n",
       "3385                                     The Swan  Synergetic          2400.0   \n",
       "3386                            An Actor Prepares       Grav.          1700.0   \n",
       "\n",
       "     foreign_gross  year  \n",
       "0        652000000  2010  \n",
       "1        691300000  2010  \n",
       "2        664300000  2010  \n",
       "3        535700000  2010  \n",
       "4        513900000  2010  \n",
       "...            ...   ...  \n",
       "3382           NaN  2018  \n",
       "3383           NaN  2018  \n",
       "3384           NaN  2018  \n",
       "3385           NaN  2018  \n",
       "3386           NaN  2018  \n",
       "\n",
       "[3387 rows x 5 columns]"
      ]
     },
     "execution_count": 3,
     "metadata": {},
     "output_type": "execute_result"
    }
   ],
   "source": [
    "#see dataframe movie gross\n",
    "df_movie_gross"
   ]
  },
  {
   "cell_type": "code",
   "execution_count": 4,
   "metadata": {},
   "outputs": [],
   "source": [
    "#bring in dataset imdb titles basic\n",
    "df_titles_basic=pd.read_csv('imdb.title.basics (1).csv.gz')"
   ]
  },
  {
   "cell_type": "code",
   "execution_count": 5,
   "metadata": {},
   "outputs": [
    {
     "data": {
      "text/html": [
       "<div>\n",
       "<style scoped>\n",
       "    .dataframe tbody tr th:only-of-type {\n",
       "        vertical-align: middle;\n",
       "    }\n",
       "\n",
       "    .dataframe tbody tr th {\n",
       "        vertical-align: top;\n",
       "    }\n",
       "\n",
       "    .dataframe thead th {\n",
       "        text-align: right;\n",
       "    }\n",
       "</style>\n",
       "<table border=\"1\" class=\"dataframe\">\n",
       "  <thead>\n",
       "    <tr style=\"text-align: right;\">\n",
       "      <th></th>\n",
       "      <th>tconst</th>\n",
       "      <th>primary_title</th>\n",
       "      <th>original_title</th>\n",
       "      <th>start_year</th>\n",
       "      <th>runtime_minutes</th>\n",
       "      <th>genres</th>\n",
       "    </tr>\n",
       "  </thead>\n",
       "  <tbody>\n",
       "    <tr>\n",
       "      <th>0</th>\n",
       "      <td>tt0063540</td>\n",
       "      <td>Sunghursh</td>\n",
       "      <td>Sunghursh</td>\n",
       "      <td>2013</td>\n",
       "      <td>175.0</td>\n",
       "      <td>Action,Crime,Drama</td>\n",
       "    </tr>\n",
       "    <tr>\n",
       "      <th>1</th>\n",
       "      <td>tt0066787</td>\n",
       "      <td>One Day Before the Rainy Season</td>\n",
       "      <td>Ashad Ka Ek Din</td>\n",
       "      <td>2019</td>\n",
       "      <td>114.0</td>\n",
       "      <td>Biography,Drama</td>\n",
       "    </tr>\n",
       "    <tr>\n",
       "      <th>2</th>\n",
       "      <td>tt0069049</td>\n",
       "      <td>The Other Side of the Wind</td>\n",
       "      <td>The Other Side of the Wind</td>\n",
       "      <td>2018</td>\n",
       "      <td>122.0</td>\n",
       "      <td>Drama</td>\n",
       "    </tr>\n",
       "    <tr>\n",
       "      <th>3</th>\n",
       "      <td>tt0069204</td>\n",
       "      <td>Sabse Bada Sukh</td>\n",
       "      <td>Sabse Bada Sukh</td>\n",
       "      <td>2018</td>\n",
       "      <td>NaN</td>\n",
       "      <td>Comedy,Drama</td>\n",
       "    </tr>\n",
       "    <tr>\n",
       "      <th>4</th>\n",
       "      <td>tt0100275</td>\n",
       "      <td>The Wandering Soap Opera</td>\n",
       "      <td>La Telenovela Errante</td>\n",
       "      <td>2017</td>\n",
       "      <td>80.0</td>\n",
       "      <td>Comedy,Drama,Fantasy</td>\n",
       "    </tr>\n",
       "  </tbody>\n",
       "</table>\n",
       "</div>"
      ],
      "text/plain": [
       "      tconst                    primary_title              original_title  \\\n",
       "0  tt0063540                        Sunghursh                   Sunghursh   \n",
       "1  tt0066787  One Day Before the Rainy Season             Ashad Ka Ek Din   \n",
       "2  tt0069049       The Other Side of the Wind  The Other Side of the Wind   \n",
       "3  tt0069204                  Sabse Bada Sukh             Sabse Bada Sukh   \n",
       "4  tt0100275         The Wandering Soap Opera       La Telenovela Errante   \n",
       "\n",
       "   start_year  runtime_minutes                genres  \n",
       "0        2013            175.0    Action,Crime,Drama  \n",
       "1        2019            114.0       Biography,Drama  \n",
       "2        2018            122.0                 Drama  \n",
       "3        2018              NaN          Comedy,Drama  \n",
       "4        2017             80.0  Comedy,Drama,Fantasy  "
      ]
     },
     "execution_count": 5,
     "metadata": {},
     "output_type": "execute_result"
    }
   ],
   "source": [
    "#see dataframe imdb titles basic\n",
    "df_titles_basic.head()"
   ]
  },
  {
   "cell_type": "code",
   "execution_count": 6,
   "metadata": {},
   "outputs": [],
   "source": [
    "#bring in dataset imdb title ratings\n",
    "df_ratings=pd.read_csv('imdb.title.ratings.csv.gz')"
   ]
  },
  {
   "cell_type": "code",
   "execution_count": 7,
   "metadata": {},
   "outputs": [
    {
     "data": {
      "text/html": [
       "<div>\n",
       "<style scoped>\n",
       "    .dataframe tbody tr th:only-of-type {\n",
       "        vertical-align: middle;\n",
       "    }\n",
       "\n",
       "    .dataframe tbody tr th {\n",
       "        vertical-align: top;\n",
       "    }\n",
       "\n",
       "    .dataframe thead th {\n",
       "        text-align: right;\n",
       "    }\n",
       "</style>\n",
       "<table border=\"1\" class=\"dataframe\">\n",
       "  <thead>\n",
       "    <tr style=\"text-align: right;\">\n",
       "      <th></th>\n",
       "      <th>tconst</th>\n",
       "      <th>averagerating</th>\n",
       "      <th>numvotes</th>\n",
       "    </tr>\n",
       "  </thead>\n",
       "  <tbody>\n",
       "    <tr>\n",
       "      <th>0</th>\n",
       "      <td>tt10356526</td>\n",
       "      <td>8.3</td>\n",
       "      <td>31</td>\n",
       "    </tr>\n",
       "    <tr>\n",
       "      <th>1</th>\n",
       "      <td>tt10384606</td>\n",
       "      <td>8.9</td>\n",
       "      <td>559</td>\n",
       "    </tr>\n",
       "    <tr>\n",
       "      <th>2</th>\n",
       "      <td>tt1042974</td>\n",
       "      <td>6.4</td>\n",
       "      <td>20</td>\n",
       "    </tr>\n",
       "    <tr>\n",
       "      <th>3</th>\n",
       "      <td>tt1043726</td>\n",
       "      <td>4.2</td>\n",
       "      <td>50352</td>\n",
       "    </tr>\n",
       "    <tr>\n",
       "      <th>4</th>\n",
       "      <td>tt1060240</td>\n",
       "      <td>6.5</td>\n",
       "      <td>21</td>\n",
       "    </tr>\n",
       "  </tbody>\n",
       "</table>\n",
       "</div>"
      ],
      "text/plain": [
       "       tconst  averagerating  numvotes\n",
       "0  tt10356526            8.3        31\n",
       "1  tt10384606            8.9       559\n",
       "2   tt1042974            6.4        20\n",
       "3   tt1043726            4.2     50352\n",
       "4   tt1060240            6.5        21"
      ]
     },
     "execution_count": 7,
     "metadata": {},
     "output_type": "execute_result"
    }
   ],
   "source": [
    "#see dataset title ratings\n",
    "df_ratings.head()"
   ]
  },
  {
   "cell_type": "markdown",
   "metadata": {},
   "source": [
    "## Data Preparation\n",
    "\n",
    "After checking the information on each table to see column names and null values, I joined the two datasets, df_titles_basic_info and df_ratings together using the 'tconst' column as it was a unique identifier creating a new dataframe called joinedimdb. I then joined the dataset df_movie_gross with the new dataframe using the title as the unique identifier, creating a combined new dataset called complete_df.\n",
    "\n",
    "Checking the information on the new dataframe complete_df, I then cleaned up the null values by removing them, tidied up the \"Domestic Gross' and 'Foreign Gross' columns and converted them to units of $ millions for easier readability and analysis. The columns\"studio\", \"original title\", and the original domestic and foreign gross columns were deleted as they were not required to carry out this analysis.\n",
    "\n",
    "\n"
   ]
  },
  {
   "cell_type": "code",
   "execution_count": 8,
   "metadata": {},
   "outputs": [
    {
     "name": "stdout",
     "output_type": "stream",
     "text": [
      "<class 'pandas.core.frame.DataFrame'>\n",
      "RangeIndex: 3387 entries, 0 to 3386\n",
      "Data columns (total 5 columns):\n",
      " #   Column          Non-Null Count  Dtype  \n",
      "---  ------          --------------  -----  \n",
      " 0   title           3387 non-null   object \n",
      " 1   studio          3382 non-null   object \n",
      " 2   domestic_gross  3359 non-null   float64\n",
      " 3   foreign_gross   2037 non-null   object \n",
      " 4   year            3387 non-null   int64  \n",
      "dtypes: float64(1), int64(1), object(3)\n",
      "memory usage: 132.4+ KB\n"
     ]
    }
   ],
   "source": [
    "#see info and size about dataset movie gross checking on null values\n",
    "df_movie_gross.info()"
   ]
  },
  {
   "cell_type": "code",
   "execution_count": 9,
   "metadata": {},
   "outputs": [
    {
     "name": "stdout",
     "output_type": "stream",
     "text": [
      "<class 'pandas.core.frame.DataFrame'>\n",
      "RangeIndex: 146144 entries, 0 to 146143\n",
      "Data columns (total 6 columns):\n",
      " #   Column           Non-Null Count   Dtype  \n",
      "---  ------           --------------   -----  \n",
      " 0   tconst           146144 non-null  object \n",
      " 1   primary_title    146144 non-null  object \n",
      " 2   original_title   146123 non-null  object \n",
      " 3   start_year       146144 non-null  int64  \n",
      " 4   runtime_minutes  114405 non-null  float64\n",
      " 5   genres           140736 non-null  object \n",
      "dtypes: float64(1), int64(1), object(4)\n",
      "memory usage: 6.7+ MB\n"
     ]
    }
   ],
   "source": [
    "#see info and size about data set \"titles basic\" checking size and null values\n",
    "df_titles_basic.info()"
   ]
  },
  {
   "cell_type": "code",
   "execution_count": 10,
   "metadata": {},
   "outputs": [
    {
     "name": "stdout",
     "output_type": "stream",
     "text": [
      "<class 'pandas.core.frame.DataFrame'>\n",
      "RangeIndex: 73856 entries, 0 to 73855\n",
      "Data columns (total 3 columns):\n",
      " #   Column         Non-Null Count  Dtype  \n",
      "---  ------         --------------  -----  \n",
      " 0   tconst         73856 non-null  object \n",
      " 1   averagerating  73856 non-null  float64\n",
      " 2   numvotes       73856 non-null  int64  \n",
      "dtypes: float64(1), int64(1), object(1)\n",
      "memory usage: 1.7+ MB\n"
     ]
    }
   ],
   "source": [
    "#see info and size about dataset \"titles ratings\" checking size and null values\n",
    "df_ratings.info()"
   ]
  },
  {
   "cell_type": "markdown",
   "metadata": {},
   "source": [
    "##Joining 3 Data Tables Together"
   ]
  },
  {
   "cell_type": "code",
   "execution_count": 11,
   "metadata": {},
   "outputs": [],
   "source": [
    "#setting the tcont column in dataset \"titles basic\" as an index\n",
    "df_titles_basic.set_index('tconst', inplace=True)"
   ]
  },
  {
   "cell_type": "code",
   "execution_count": 12,
   "metadata": {},
   "outputs": [],
   "source": [
    "#setting the tconst in dataset \"ratings\" as an index\n",
    "df_ratings.set_index('tconst', inplace=True)"
   ]
  },
  {
   "cell_type": "code",
   "execution_count": 13,
   "metadata": {},
   "outputs": [],
   "source": [
    "#joining titles basic data with ratings data using the tconst as index (unique identifier)\n",
    "joinedimdb_df=df_titles_basic.join(df_ratings, how='inner')"
   ]
  },
  {
   "cell_type": "code",
   "execution_count": 14,
   "metadata": {},
   "outputs": [
    {
     "data": {
      "text/html": [
       "<div>\n",
       "<style scoped>\n",
       "    .dataframe tbody tr th:only-of-type {\n",
       "        vertical-align: middle;\n",
       "    }\n",
       "\n",
       "    .dataframe tbody tr th {\n",
       "        vertical-align: top;\n",
       "    }\n",
       "\n",
       "    .dataframe thead th {\n",
       "        text-align: right;\n",
       "    }\n",
       "</style>\n",
       "<table border=\"1\" class=\"dataframe\">\n",
       "  <thead>\n",
       "    <tr style=\"text-align: right;\">\n",
       "      <th></th>\n",
       "      <th>primary_title</th>\n",
       "      <th>original_title</th>\n",
       "      <th>start_year</th>\n",
       "      <th>runtime_minutes</th>\n",
       "      <th>genres</th>\n",
       "      <th>averagerating</th>\n",
       "      <th>numvotes</th>\n",
       "    </tr>\n",
       "    <tr>\n",
       "      <th>tconst</th>\n",
       "      <th></th>\n",
       "      <th></th>\n",
       "      <th></th>\n",
       "      <th></th>\n",
       "      <th></th>\n",
       "      <th></th>\n",
       "      <th></th>\n",
       "    </tr>\n",
       "  </thead>\n",
       "  <tbody>\n",
       "    <tr>\n",
       "      <th>tt0063540</th>\n",
       "      <td>Sunghursh</td>\n",
       "      <td>Sunghursh</td>\n",
       "      <td>2013</td>\n",
       "      <td>175.0</td>\n",
       "      <td>Action,Crime,Drama</td>\n",
       "      <td>7.0</td>\n",
       "      <td>77</td>\n",
       "    </tr>\n",
       "    <tr>\n",
       "      <th>tt0066787</th>\n",
       "      <td>One Day Before the Rainy Season</td>\n",
       "      <td>Ashad Ka Ek Din</td>\n",
       "      <td>2019</td>\n",
       "      <td>114.0</td>\n",
       "      <td>Biography,Drama</td>\n",
       "      <td>7.2</td>\n",
       "      <td>43</td>\n",
       "    </tr>\n",
       "    <tr>\n",
       "      <th>tt0069049</th>\n",
       "      <td>The Other Side of the Wind</td>\n",
       "      <td>The Other Side of the Wind</td>\n",
       "      <td>2018</td>\n",
       "      <td>122.0</td>\n",
       "      <td>Drama</td>\n",
       "      <td>6.9</td>\n",
       "      <td>4517</td>\n",
       "    </tr>\n",
       "    <tr>\n",
       "      <th>tt0069204</th>\n",
       "      <td>Sabse Bada Sukh</td>\n",
       "      <td>Sabse Bada Sukh</td>\n",
       "      <td>2018</td>\n",
       "      <td>NaN</td>\n",
       "      <td>Comedy,Drama</td>\n",
       "      <td>6.1</td>\n",
       "      <td>13</td>\n",
       "    </tr>\n",
       "    <tr>\n",
       "      <th>tt0100275</th>\n",
       "      <td>The Wandering Soap Opera</td>\n",
       "      <td>La Telenovela Errante</td>\n",
       "      <td>2017</td>\n",
       "      <td>80.0</td>\n",
       "      <td>Comedy,Drama,Fantasy</td>\n",
       "      <td>6.5</td>\n",
       "      <td>119</td>\n",
       "    </tr>\n",
       "  </tbody>\n",
       "</table>\n",
       "</div>"
      ],
      "text/plain": [
       "                             primary_title              original_title  \\\n",
       "tconst                                                                   \n",
       "tt0063540                        Sunghursh                   Sunghursh   \n",
       "tt0066787  One Day Before the Rainy Season             Ashad Ka Ek Din   \n",
       "tt0069049       The Other Side of the Wind  The Other Side of the Wind   \n",
       "tt0069204                  Sabse Bada Sukh             Sabse Bada Sukh   \n",
       "tt0100275         The Wandering Soap Opera       La Telenovela Errante   \n",
       "\n",
       "           start_year  runtime_minutes                genres  averagerating  \\\n",
       "tconst                                                                        \n",
       "tt0063540        2013            175.0    Action,Crime,Drama            7.0   \n",
       "tt0066787        2019            114.0       Biography,Drama            7.2   \n",
       "tt0069049        2018            122.0                 Drama            6.9   \n",
       "tt0069204        2018              NaN          Comedy,Drama            6.1   \n",
       "tt0100275        2017             80.0  Comedy,Drama,Fantasy            6.5   \n",
       "\n",
       "           numvotes  \n",
       "tconst               \n",
       "tt0063540        77  \n",
       "tt0066787        43  \n",
       "tt0069049      4517  \n",
       "tt0069204        13  \n",
       "tt0100275       119  "
      ]
     },
     "execution_count": 14,
     "metadata": {},
     "output_type": "execute_result"
    }
   ],
   "source": [
    "#see first 5 rows of new combined data set (titles and ratings)\n",
    "joinedimdb_df.head()"
   ]
  },
  {
   "cell_type": "code",
   "execution_count": 15,
   "metadata": {},
   "outputs": [],
   "source": [
    "#set column \"title\" as index of first dataset \"movie gross\" \n",
    "df_movie_gross.set_index ('title', inplace=True)"
   ]
  },
  {
   "cell_type": "code",
   "execution_count": 16,
   "metadata": {},
   "outputs": [],
   "source": [
    "#set column \"primary title\" as index in the previously created combined dataset\n",
    "joinedimdb_df.set_index('primary_title', inplace=True)"
   ]
  },
  {
   "cell_type": "code",
   "execution_count": 17,
   "metadata": {},
   "outputs": [],
   "source": [
    "#join dataset movie gross with combined dataset using title/primary title as index unique identifier\n",
    "complete_df=df_movie_gross.join(joinedimdb_df, how='inner')"
   ]
  },
  {
   "cell_type": "code",
   "execution_count": 18,
   "metadata": {},
   "outputs": [
    {
     "data": {
      "text/html": [
       "<div>\n",
       "<style scoped>\n",
       "    .dataframe tbody tr th:only-of-type {\n",
       "        vertical-align: middle;\n",
       "    }\n",
       "\n",
       "    .dataframe tbody tr th {\n",
       "        vertical-align: top;\n",
       "    }\n",
       "\n",
       "    .dataframe thead th {\n",
       "        text-align: right;\n",
       "    }\n",
       "</style>\n",
       "<table border=\"1\" class=\"dataframe\">\n",
       "  <thead>\n",
       "    <tr style=\"text-align: right;\">\n",
       "      <th></th>\n",
       "      <th>studio</th>\n",
       "      <th>domestic_gross</th>\n",
       "      <th>foreign_gross</th>\n",
       "      <th>year</th>\n",
       "      <th>original_title</th>\n",
       "      <th>start_year</th>\n",
       "      <th>runtime_minutes</th>\n",
       "      <th>genres</th>\n",
       "      <th>averagerating</th>\n",
       "      <th>numvotes</th>\n",
       "    </tr>\n",
       "  </thead>\n",
       "  <tbody>\n",
       "    <tr>\n",
       "      <th>'71</th>\n",
       "      <td>RAtt.</td>\n",
       "      <td>1300000.0</td>\n",
       "      <td>355000</td>\n",
       "      <td>2015</td>\n",
       "      <td>'71</td>\n",
       "      <td>2014</td>\n",
       "      <td>99.0</td>\n",
       "      <td>Action,Drama,Thriller</td>\n",
       "      <td>7.2</td>\n",
       "      <td>46103</td>\n",
       "    </tr>\n",
       "    <tr>\n",
       "      <th>1,000 Times Good Night</th>\n",
       "      <td>FM</td>\n",
       "      <td>53900.0</td>\n",
       "      <td>NaN</td>\n",
       "      <td>2014</td>\n",
       "      <td>Tusen ganger god natt</td>\n",
       "      <td>2013</td>\n",
       "      <td>117.0</td>\n",
       "      <td>Drama,War</td>\n",
       "      <td>7.1</td>\n",
       "      <td>6848</td>\n",
       "    </tr>\n",
       "    <tr>\n",
       "      <th>10 Cloverfield Lane</th>\n",
       "      <td>Par.</td>\n",
       "      <td>72100000.0</td>\n",
       "      <td>38100000</td>\n",
       "      <td>2016</td>\n",
       "      <td>10 Cloverfield Lane</td>\n",
       "      <td>2016</td>\n",
       "      <td>103.0</td>\n",
       "      <td>Drama,Horror,Mystery</td>\n",
       "      <td>7.2</td>\n",
       "      <td>260383</td>\n",
       "    </tr>\n",
       "    <tr>\n",
       "      <th>10 Years</th>\n",
       "      <td>Anch.</td>\n",
       "      <td>203000.0</td>\n",
       "      <td>NaN</td>\n",
       "      <td>2012</td>\n",
       "      <td>10 Years</td>\n",
       "      <td>2011</td>\n",
       "      <td>100.0</td>\n",
       "      <td>Comedy,Drama,Romance</td>\n",
       "      <td>6.1</td>\n",
       "      <td>22484</td>\n",
       "    </tr>\n",
       "    <tr>\n",
       "      <th>1001 Grams</th>\n",
       "      <td>KL</td>\n",
       "      <td>11000.0</td>\n",
       "      <td>NaN</td>\n",
       "      <td>2015</td>\n",
       "      <td>1001 Gram</td>\n",
       "      <td>2014</td>\n",
       "      <td>93.0</td>\n",
       "      <td>Drama</td>\n",
       "      <td>6.3</td>\n",
       "      <td>1301</td>\n",
       "    </tr>\n",
       "  </tbody>\n",
       "</table>\n",
       "</div>"
      ],
      "text/plain": [
       "                       studio  domestic_gross foreign_gross  year  \\\n",
       "'71                     RAtt.       1300000.0        355000  2015   \n",
       "1,000 Times Good Night     FM         53900.0           NaN  2014   \n",
       "10 Cloverfield Lane      Par.      72100000.0      38100000  2016   \n",
       "10 Years                Anch.        203000.0           NaN  2012   \n",
       "1001 Grams                 KL         11000.0           NaN  2015   \n",
       "\n",
       "                               original_title  start_year  runtime_minutes  \\\n",
       "'71                                       '71        2014             99.0   \n",
       "1,000 Times Good Night  Tusen ganger god natt        2013            117.0   \n",
       "10 Cloverfield Lane       10 Cloverfield Lane        2016            103.0   \n",
       "10 Years                             10 Years        2011            100.0   \n",
       "1001 Grams                          1001 Gram        2014             93.0   \n",
       "\n",
       "                                       genres  averagerating  numvotes  \n",
       "'71                     Action,Drama,Thriller            7.2     46103  \n",
       "1,000 Times Good Night              Drama,War            7.1      6848  \n",
       "10 Cloverfield Lane      Drama,Horror,Mystery            7.2    260383  \n",
       "10 Years                 Comedy,Drama,Romance            6.1     22484  \n",
       "1001 Grams                              Drama            6.3      1301  "
      ]
     },
     "execution_count": 18,
     "metadata": {},
     "output_type": "execute_result"
    }
   ],
   "source": [
    "#see first ten rows of fully combined datset from three preveios sets of data.\n",
    "complete_df.head()"
   ]
  },
  {
   "cell_type": "code",
   "execution_count": 19,
   "metadata": {},
   "outputs": [
    {
     "name": "stdout",
     "output_type": "stream",
     "text": [
      "<class 'pandas.core.frame.DataFrame'>\n",
      "Index: 3027 entries, '71 to Zootopia\n",
      "Data columns (total 10 columns):\n",
      " #   Column           Non-Null Count  Dtype  \n",
      "---  ------           --------------  -----  \n",
      " 0   studio           3024 non-null   object \n",
      " 1   domestic_gross   3005 non-null   float64\n",
      " 2   foreign_gross    1832 non-null   object \n",
      " 3   year             3027 non-null   int64  \n",
      " 4   original_title   3027 non-null   object \n",
      " 5   start_year       3027 non-null   int64  \n",
      " 6   runtime_minutes  2980 non-null   float64\n",
      " 7   genres           3020 non-null   object \n",
      " 8   averagerating    3027 non-null   float64\n",
      " 9   numvotes         3027 non-null   int64  \n",
      "dtypes: float64(3), int64(3), object(4)\n",
      "memory usage: 260.1+ KB\n"
     ]
    }
   ],
   "source": [
    "#see info on new complete dataset\n",
    "complete_df.info()"
   ]
  },
  {
   "cell_type": "code",
   "execution_count": 20,
   "metadata": {},
   "outputs": [
    {
     "data": {
      "text/plain": [
       "studio                3\n",
       "domestic_gross       22\n",
       "foreign_gross      1195\n",
       "year                  0\n",
       "original_title        0\n",
       "start_year            0\n",
       "runtime_minutes      47\n",
       "genres                7\n",
       "averagerating         0\n",
       "numvotes              0\n",
       "dtype: int64"
      ]
     },
     "execution_count": 20,
     "metadata": {},
     "output_type": "execute_result"
    }
   ],
   "source": [
    "#count how many missing or null values\n",
    "complete_df.isnull().sum()"
   ]
  },
  {
   "cell_type": "code",
   "execution_count": 21,
   "metadata": {},
   "outputs": [],
   "source": [
    "#drop all rows with NaN values\n",
    "complete_df.dropna(axis=0, inplace =True)"
   ]
  },
  {
   "cell_type": "code",
   "execution_count": 22,
   "metadata": {},
   "outputs": [
    {
     "data": {
      "text/plain": [
       "studio             0\n",
       "domestic_gross     0\n",
       "foreign_gross      0\n",
       "year               0\n",
       "original_title     0\n",
       "start_year         0\n",
       "runtime_minutes    0\n",
       "genres             0\n",
       "averagerating      0\n",
       "numvotes           0\n",
       "dtype: int64"
      ]
     },
     "execution_count": 22,
     "metadata": {},
     "output_type": "execute_result"
    }
   ],
   "source": [
    "#check all null vaues and rows are removed from data\n",
    "complete_df.isnull().sum()"
   ]
  },
  {
   "cell_type": "code",
   "execution_count": 23,
   "metadata": {},
   "outputs": [
    {
     "name": "stdout",
     "output_type": "stream",
     "text": [
      "<class 'pandas.core.frame.DataFrame'>\n",
      "Index: 1767 entries, '71 to Zootopia\n",
      "Data columns (total 10 columns):\n",
      " #   Column           Non-Null Count  Dtype  \n",
      "---  ------           --------------  -----  \n",
      " 0   studio           1767 non-null   object \n",
      " 1   domestic_gross   1767 non-null   float64\n",
      " 2   foreign_gross    1767 non-null   object \n",
      " 3   year             1767 non-null   int64  \n",
      " 4   original_title   1767 non-null   object \n",
      " 5   start_year       1767 non-null   int64  \n",
      " 6   runtime_minutes  1767 non-null   float64\n",
      " 7   genres           1767 non-null   object \n",
      " 8   averagerating    1767 non-null   float64\n",
      " 9   numvotes         1767 non-null   int64  \n",
      "dtypes: float64(3), int64(3), object(4)\n",
      "memory usage: 151.9+ KB\n"
     ]
    }
   ],
   "source": [
    "#see new complete data set info\n",
    "complete_df.info()"
   ]
  },
  {
   "cell_type": "code",
   "execution_count": 24,
   "metadata": {},
   "outputs": [
    {
     "name": "stdout",
     "output_type": "stream",
     "text": [
      "Are there any duplicate values? False\n"
     ]
    }
   ],
   "source": [
    "#check for any duplicated data\n",
    "dup_data=complete_df.duplicated().any()\n",
    "print(\"Are there any duplicate values?\",dup_data)"
   ]
  },
  {
   "cell_type": "code",
   "execution_count": 25,
   "metadata": {},
   "outputs": [
    {
     "name": "stdout",
     "output_type": "stream",
     "text": [
      "<class 'pandas.core.frame.DataFrame'>\n",
      "Index: 1767 entries, '71 to Zootopia\n",
      "Data columns (total 10 columns):\n",
      " #   Column           Non-Null Count  Dtype  \n",
      "---  ------           --------------  -----  \n",
      " 0   studio           1767 non-null   object \n",
      " 1   domestic_gross   1767 non-null   float64\n",
      " 2   foreign_gross    1767 non-null   object \n",
      " 3   year             1767 non-null   int64  \n",
      " 4   original_title   1767 non-null   object \n",
      " 5   start_year       1767 non-null   int64  \n",
      " 6   runtime_minutes  1767 non-null   float64\n",
      " 7   genres           1767 non-null   object \n",
      " 8   averagerating    1767 non-null   float64\n",
      " 9   numvotes         1767 non-null   int64  \n",
      "dtypes: float64(3), int64(3), object(4)\n",
      "memory usage: 151.9+ KB\n"
     ]
    }
   ],
   "source": [
    "#tidy up foreign gross column taking out commas and $ for better analysis\n",
    "complete_df['foreign_gross'] = complete_df['foreign_gross'].str.replace('$', '').str.replace(',', '')\n",
    "complete_df.info()"
   ]
  },
  {
   "cell_type": "code",
   "execution_count": 26,
   "metadata": {},
   "outputs": [
    {
     "data": {
      "text/html": [
       "<div>\n",
       "<style scoped>\n",
       "    .dataframe tbody tr th:only-of-type {\n",
       "        vertical-align: middle;\n",
       "    }\n",
       "\n",
       "    .dataframe tbody tr th {\n",
       "        vertical-align: top;\n",
       "    }\n",
       "\n",
       "    .dataframe thead th {\n",
       "        text-align: right;\n",
       "    }\n",
       "</style>\n",
       "<table border=\"1\" class=\"dataframe\">\n",
       "  <thead>\n",
       "    <tr style=\"text-align: right;\">\n",
       "      <th></th>\n",
       "      <th>studio</th>\n",
       "      <th>domestic_gross</th>\n",
       "      <th>foreign_gross</th>\n",
       "      <th>year</th>\n",
       "      <th>original_title</th>\n",
       "      <th>start_year</th>\n",
       "      <th>runtime_minutes</th>\n",
       "      <th>genres</th>\n",
       "      <th>averagerating</th>\n",
       "      <th>numvotes</th>\n",
       "      <th>Domestic Gross Million $</th>\n",
       "      <th>Foreign Gross Million $</th>\n",
       "    </tr>\n",
       "  </thead>\n",
       "  <tbody>\n",
       "    <tr>\n",
       "      <th>'71</th>\n",
       "      <td>RAtt.</td>\n",
       "      <td>1300000.0</td>\n",
       "      <td>355000</td>\n",
       "      <td>2015</td>\n",
       "      <td>'71</td>\n",
       "      <td>2014</td>\n",
       "      <td>99.0</td>\n",
       "      <td>Action,Drama,Thriller</td>\n",
       "      <td>7.2</td>\n",
       "      <td>46103</td>\n",
       "      <td>1.3000</td>\n",
       "      <td>0.355</td>\n",
       "    </tr>\n",
       "    <tr>\n",
       "      <th>10 Cloverfield Lane</th>\n",
       "      <td>Par.</td>\n",
       "      <td>72100000.0</td>\n",
       "      <td>38100000</td>\n",
       "      <td>2016</td>\n",
       "      <td>10 Cloverfield Lane</td>\n",
       "      <td>2016</td>\n",
       "      <td>103.0</td>\n",
       "      <td>Drama,Horror,Mystery</td>\n",
       "      <td>7.2</td>\n",
       "      <td>260383</td>\n",
       "      <td>72.1000</td>\n",
       "      <td>38.100</td>\n",
       "    </tr>\n",
       "    <tr>\n",
       "      <th>102 Not Out</th>\n",
       "      <td>Sony</td>\n",
       "      <td>1300000.0</td>\n",
       "      <td>10900000</td>\n",
       "      <td>2018</td>\n",
       "      <td>102 Not Out</td>\n",
       "      <td>2018</td>\n",
       "      <td>102.0</td>\n",
       "      <td>Comedy,Drama</td>\n",
       "      <td>7.5</td>\n",
       "      <td>4802</td>\n",
       "      <td>1.3000</td>\n",
       "      <td>10.900</td>\n",
       "    </tr>\n",
       "    <tr>\n",
       "      <th>11-11-11</th>\n",
       "      <td>Rocket</td>\n",
       "      <td>32800.0</td>\n",
       "      <td>5700000</td>\n",
       "      <td>2011</td>\n",
       "      <td>11-11-11</td>\n",
       "      <td>2011</td>\n",
       "      <td>90.0</td>\n",
       "      <td>Horror,Mystery,Thriller</td>\n",
       "      <td>4.0</td>\n",
       "      <td>11712</td>\n",
       "      <td>0.0328</td>\n",
       "      <td>5.700</td>\n",
       "    </tr>\n",
       "    <tr>\n",
       "      <th>12 Strong</th>\n",
       "      <td>WB</td>\n",
       "      <td>45800000.0</td>\n",
       "      <td>21600000</td>\n",
       "      <td>2018</td>\n",
       "      <td>12 Strong</td>\n",
       "      <td>2018</td>\n",
       "      <td>130.0</td>\n",
       "      <td>Action,Drama,History</td>\n",
       "      <td>6.6</td>\n",
       "      <td>50155</td>\n",
       "      <td>45.8000</td>\n",
       "      <td>21.600</td>\n",
       "    </tr>\n",
       "  </tbody>\n",
       "</table>\n",
       "</div>"
      ],
      "text/plain": [
       "                     studio  domestic_gross foreign_gross  year  \\\n",
       "'71                   RAtt.       1300000.0        355000  2015   \n",
       "10 Cloverfield Lane    Par.      72100000.0      38100000  2016   \n",
       "102 Not Out            Sony       1300000.0      10900000  2018   \n",
       "11-11-11             Rocket         32800.0       5700000  2011   \n",
       "12 Strong                WB      45800000.0      21600000  2018   \n",
       "\n",
       "                          original_title  start_year  runtime_minutes  \\\n",
       "'71                                  '71        2014             99.0   \n",
       "10 Cloverfield Lane  10 Cloverfield Lane        2016            103.0   \n",
       "102 Not Out                  102 Not Out        2018            102.0   \n",
       "11-11-11                        11-11-11        2011             90.0   \n",
       "12 Strong                      12 Strong        2018            130.0   \n",
       "\n",
       "                                      genres  averagerating  numvotes  \\\n",
       "'71                    Action,Drama,Thriller            7.2     46103   \n",
       "10 Cloverfield Lane     Drama,Horror,Mystery            7.2    260383   \n",
       "102 Not Out                     Comedy,Drama            7.5      4802   \n",
       "11-11-11             Horror,Mystery,Thriller            4.0     11712   \n",
       "12 Strong               Action,Drama,History            6.6     50155   \n",
       "\n",
       "                     Domestic Gross Million $  Foreign Gross Million $  \n",
       "'71                                    1.3000                    0.355  \n",
       "10 Cloverfield Lane                   72.1000                   38.100  \n",
       "102 Not Out                            1.3000                   10.900  \n",
       "11-11-11                               0.0328                    5.700  \n",
       "12 Strong                             45.8000                   21.600  "
      ]
     },
     "execution_count": 26,
     "metadata": {},
     "output_type": "execute_result"
    }
   ],
   "source": [
    "#convert domestic gross & foreign gross to million $usd\n",
    "complete_df['Domestic Gross Million $'] =  (complete_df['domestic_gross'].astype(float)/1000000)\n",
    "complete_df['Foreign Gross Million $'] = (complete_df['foreign_gross'].astype(float)/1000000)\n",
    "complete_df.head()"
   ]
  },
  {
   "cell_type": "code",
   "execution_count": 27,
   "metadata": {},
   "outputs": [
    {
     "data": {
      "text/html": [
       "<div>\n",
       "<style scoped>\n",
       "    .dataframe tbody tr th:only-of-type {\n",
       "        vertical-align: middle;\n",
       "    }\n",
       "\n",
       "    .dataframe tbody tr th {\n",
       "        vertical-align: top;\n",
       "    }\n",
       "\n",
       "    .dataframe thead th {\n",
       "        text-align: right;\n",
       "    }\n",
       "</style>\n",
       "<table border=\"1\" class=\"dataframe\">\n",
       "  <thead>\n",
       "    <tr style=\"text-align: right;\">\n",
       "      <th></th>\n",
       "      <th>year</th>\n",
       "      <th>start_year</th>\n",
       "      <th>runtime_minutes</th>\n",
       "      <th>genres</th>\n",
       "      <th>averagerating</th>\n",
       "      <th>numvotes</th>\n",
       "      <th>Domestic Gross Million $</th>\n",
       "      <th>Foreign Gross Million $</th>\n",
       "    </tr>\n",
       "  </thead>\n",
       "  <tbody>\n",
       "    <tr>\n",
       "      <th>'71</th>\n",
       "      <td>2015</td>\n",
       "      <td>2014</td>\n",
       "      <td>99.0</td>\n",
       "      <td>Action,Drama,Thriller</td>\n",
       "      <td>7.2</td>\n",
       "      <td>46103</td>\n",
       "      <td>1.3000</td>\n",
       "      <td>0.355</td>\n",
       "    </tr>\n",
       "    <tr>\n",
       "      <th>10 Cloverfield Lane</th>\n",
       "      <td>2016</td>\n",
       "      <td>2016</td>\n",
       "      <td>103.0</td>\n",
       "      <td>Drama,Horror,Mystery</td>\n",
       "      <td>7.2</td>\n",
       "      <td>260383</td>\n",
       "      <td>72.1000</td>\n",
       "      <td>38.100</td>\n",
       "    </tr>\n",
       "    <tr>\n",
       "      <th>102 Not Out</th>\n",
       "      <td>2018</td>\n",
       "      <td>2018</td>\n",
       "      <td>102.0</td>\n",
       "      <td>Comedy,Drama</td>\n",
       "      <td>7.5</td>\n",
       "      <td>4802</td>\n",
       "      <td>1.3000</td>\n",
       "      <td>10.900</td>\n",
       "    </tr>\n",
       "    <tr>\n",
       "      <th>11-11-11</th>\n",
       "      <td>2011</td>\n",
       "      <td>2011</td>\n",
       "      <td>90.0</td>\n",
       "      <td>Horror,Mystery,Thriller</td>\n",
       "      <td>4.0</td>\n",
       "      <td>11712</td>\n",
       "      <td>0.0328</td>\n",
       "      <td>5.700</td>\n",
       "    </tr>\n",
       "    <tr>\n",
       "      <th>12 Strong</th>\n",
       "      <td>2018</td>\n",
       "      <td>2018</td>\n",
       "      <td>130.0</td>\n",
       "      <td>Action,Drama,History</td>\n",
       "      <td>6.6</td>\n",
       "      <td>50155</td>\n",
       "      <td>45.8000</td>\n",
       "      <td>21.600</td>\n",
       "    </tr>\n",
       "  </tbody>\n",
       "</table>\n",
       "</div>"
      ],
      "text/plain": [
       "                     year  start_year  runtime_minutes  \\\n",
       "'71                  2015        2014             99.0   \n",
       "10 Cloverfield Lane  2016        2016            103.0   \n",
       "102 Not Out          2018        2018            102.0   \n",
       "11-11-11             2011        2011             90.0   \n",
       "12 Strong            2018        2018            130.0   \n",
       "\n",
       "                                      genres  averagerating  numvotes  \\\n",
       "'71                    Action,Drama,Thriller            7.2     46103   \n",
       "10 Cloverfield Lane     Drama,Horror,Mystery            7.2    260383   \n",
       "102 Not Out                     Comedy,Drama            7.5      4802   \n",
       "11-11-11             Horror,Mystery,Thriller            4.0     11712   \n",
       "12 Strong               Action,Drama,History            6.6     50155   \n",
       "\n",
       "                     Domestic Gross Million $  Foreign Gross Million $  \n",
       "'71                                    1.3000                    0.355  \n",
       "10 Cloverfield Lane                   72.1000                   38.100  \n",
       "102 Not Out                            1.3000                   10.900  \n",
       "11-11-11                               0.0328                    5.700  \n",
       "12 Strong                             45.8000                   21.600  "
      ]
     },
     "execution_count": 27,
     "metadata": {},
     "output_type": "execute_result"
    }
   ],
   "source": [
    "#drop unwanted columns studio, domestic gross, foreign gross and original_title\n",
    "complete_df.drop(labels=['studio','original_title','domestic_gross','foreign_gross'], axis=1, inplace=True)\n",
    "complete_df.head()"
   ]
  },
  {
   "cell_type": "code",
   "execution_count": 28,
   "metadata": {},
   "outputs": [
    {
     "name": "stdout",
     "output_type": "stream",
     "text": [
      "<class 'pandas.core.frame.DataFrame'>\n",
      "Index: 1767 entries, '71 to Zootopia\n",
      "Data columns (total 8 columns):\n",
      " #   Column                    Non-Null Count  Dtype  \n",
      "---  ------                    --------------  -----  \n",
      " 0   year                      1767 non-null   int64  \n",
      " 1   start_year                1767 non-null   int64  \n",
      " 2   runtime_minutes           1767 non-null   float64\n",
      " 3   genres                    1767 non-null   object \n",
      " 4   averagerating             1767 non-null   float64\n",
      " 5   numvotes                  1767 non-null   float64\n",
      " 6   Domestic Gross Million $  1767 non-null   float64\n",
      " 7   Foreign Gross Million $   1767 non-null   float64\n",
      "dtypes: float64(5), int64(2), object(1)\n",
      "memory usage: 124.2+ KB\n"
     ]
    }
   ],
   "source": [
    "#convert numvotes column to float\n",
    "complete_df['numvotes'] = (complete_df['numvotes'].astype(float))\n",
    "complete_df.info()"
   ]
  },
  {
   "cell_type": "code",
   "execution_count": 50,
   "metadata": {},
   "outputs": [],
   "source": [
    "#saved cleaned dataset as CSV\n",
    "#complete_df.to_csv('./data/cleaned_movie_data_df.csv')"
   ]
  },
  {
   "cell_type": "markdown",
   "metadata": {},
   "source": [
    "## Data Modeling\n",
    "\n",
    "I first check the descriptive statistics for the dataframe I cleaned and created and display basic histograms for each variable in the data. The genre column can have up to(and most do have) 3 genres attached to each movie which I originally seperated out but after careful consideration I wanted to analyse based on the combination of genres that had the most domestic and foreign gross sales and the top 20 combination of genres according to average ratings and number of votes. I wanted to see if there was a connection in the combination of genres that meet the above criteria.\n",
    "***\n",
    "\n"
   ]
  },
  {
   "cell_type": "code",
   "execution_count": 49,
   "metadata": {},
   "outputs": [
    {
     "data": {
      "text/html": [
       "<div>\n",
       "<style scoped>\n",
       "    .dataframe tbody tr th:only-of-type {\n",
       "        vertical-align: middle;\n",
       "    }\n",
       "\n",
       "    .dataframe tbody tr th {\n",
       "        vertical-align: top;\n",
       "    }\n",
       "\n",
       "    .dataframe thead th {\n",
       "        text-align: right;\n",
       "    }\n",
       "</style>\n",
       "<table border=\"1\" class=\"dataframe\">\n",
       "  <thead>\n",
       "    <tr style=\"text-align: right;\">\n",
       "      <th></th>\n",
       "      <th>year</th>\n",
       "      <th>start_year</th>\n",
       "      <th>runtime_minutes</th>\n",
       "      <th>genres</th>\n",
       "      <th>averagerating</th>\n",
       "      <th>numvotes</th>\n",
       "      <th>Domestic Gross Million $</th>\n",
       "      <th>Foreign Gross Million $</th>\n",
       "    </tr>\n",
       "  </thead>\n",
       "  <tbody>\n",
       "    <tr>\n",
       "      <th>count</th>\n",
       "      <td>1767.000000</td>\n",
       "      <td>1767.000000</td>\n",
       "      <td>1767.000000</td>\n",
       "      <td>1767</td>\n",
       "      <td>1767.000000</td>\n",
       "      <td>1.767000e+03</td>\n",
       "      <td>1767.000000</td>\n",
       "      <td>1767.000000</td>\n",
       "    </tr>\n",
       "    <tr>\n",
       "      <th>unique</th>\n",
       "      <td>NaN</td>\n",
       "      <td>NaN</td>\n",
       "      <td>NaN</td>\n",
       "      <td>260</td>\n",
       "      <td>NaN</td>\n",
       "      <td>NaN</td>\n",
       "      <td>NaN</td>\n",
       "      <td>NaN</td>\n",
       "    </tr>\n",
       "    <tr>\n",
       "      <th>top</th>\n",
       "      <td>NaN</td>\n",
       "      <td>NaN</td>\n",
       "      <td>NaN</td>\n",
       "      <td>Drama</td>\n",
       "      <td>NaN</td>\n",
       "      <td>NaN</td>\n",
       "      <td>NaN</td>\n",
       "      <td>NaN</td>\n",
       "    </tr>\n",
       "    <tr>\n",
       "      <th>freq</th>\n",
       "      <td>NaN</td>\n",
       "      <td>NaN</td>\n",
       "      <td>NaN</td>\n",
       "      <td>115</td>\n",
       "      <td>NaN</td>\n",
       "      <td>NaN</td>\n",
       "      <td>NaN</td>\n",
       "      <td>NaN</td>\n",
       "    </tr>\n",
       "    <tr>\n",
       "      <th>mean</th>\n",
       "      <td>2013.666101</td>\n",
       "      <td>2013.559706</td>\n",
       "      <td>107.895869</td>\n",
       "      <td>NaN</td>\n",
       "      <td>6.459706</td>\n",
       "      <td>9.692010e+04</td>\n",
       "      <td>50.081029</td>\n",
       "      <td>79.595818</td>\n",
       "    </tr>\n",
       "    <tr>\n",
       "      <th>std</th>\n",
       "      <td>2.572505</td>\n",
       "      <td>2.621180</td>\n",
       "      <td>20.105904</td>\n",
       "      <td>NaN</td>\n",
       "      <td>0.991033</td>\n",
       "      <td>1.539057e+05</td>\n",
       "      <td>81.010895</td>\n",
       "      <td>140.364626</td>\n",
       "    </tr>\n",
       "    <tr>\n",
       "      <th>min</th>\n",
       "      <td>2010.000000</td>\n",
       "      <td>2010.000000</td>\n",
       "      <td>3.000000</td>\n",
       "      <td>NaN</td>\n",
       "      <td>1.600000</td>\n",
       "      <td>5.000000e+00</td>\n",
       "      <td>0.000400</td>\n",
       "      <td>0.000600</td>\n",
       "    </tr>\n",
       "    <tr>\n",
       "      <th>25%</th>\n",
       "      <td>2011.000000</td>\n",
       "      <td>2011.000000</td>\n",
       "      <td>95.000000</td>\n",
       "      <td>NaN</td>\n",
       "      <td>5.900000</td>\n",
       "      <td>6.392500e+03</td>\n",
       "      <td>1.300000</td>\n",
       "      <td>4.900000</td>\n",
       "    </tr>\n",
       "    <tr>\n",
       "      <th>50%</th>\n",
       "      <td>2014.000000</td>\n",
       "      <td>2013.000000</td>\n",
       "      <td>106.000000</td>\n",
       "      <td>NaN</td>\n",
       "      <td>6.500000</td>\n",
       "      <td>3.987000e+04</td>\n",
       "      <td>21.100000</td>\n",
       "      <td>21.500000</td>\n",
       "    </tr>\n",
       "    <tr>\n",
       "      <th>75%</th>\n",
       "      <td>2016.000000</td>\n",
       "      <td>2016.000000</td>\n",
       "      <td>119.000000</td>\n",
       "      <td>NaN</td>\n",
       "      <td>7.100000</td>\n",
       "      <td>1.171330e+05</td>\n",
       "      <td>61.200000</td>\n",
       "      <td>81.950000</td>\n",
       "    </tr>\n",
       "    <tr>\n",
       "      <th>max</th>\n",
       "      <td>2018.000000</td>\n",
       "      <td>2019.000000</td>\n",
       "      <td>272.000000</td>\n",
       "      <td>NaN</td>\n",
       "      <td>9.200000</td>\n",
       "      <td>1.841066e+06</td>\n",
       "      <td>700.100000</td>\n",
       "      <td>946.400000</td>\n",
       "    </tr>\n",
       "  </tbody>\n",
       "</table>\n",
       "</div>"
      ],
      "text/plain": [
       "               year   start_year  runtime_minutes genres  averagerating  \\\n",
       "count   1767.000000  1767.000000      1767.000000   1767    1767.000000   \n",
       "unique          NaN          NaN              NaN    260            NaN   \n",
       "top             NaN          NaN              NaN  Drama            NaN   \n",
       "freq            NaN          NaN              NaN    115            NaN   \n",
       "mean    2013.666101  2013.559706       107.895869    NaN       6.459706   \n",
       "std        2.572505     2.621180        20.105904    NaN       0.991033   \n",
       "min     2010.000000  2010.000000         3.000000    NaN       1.600000   \n",
       "25%     2011.000000  2011.000000        95.000000    NaN       5.900000   \n",
       "50%     2014.000000  2013.000000       106.000000    NaN       6.500000   \n",
       "75%     2016.000000  2016.000000       119.000000    NaN       7.100000   \n",
       "max     2018.000000  2019.000000       272.000000    NaN       9.200000   \n",
       "\n",
       "            numvotes  Domestic Gross Million $  Foreign Gross Million $  \n",
       "count   1.767000e+03               1767.000000              1767.000000  \n",
       "unique           NaN                       NaN                      NaN  \n",
       "top              NaN                       NaN                      NaN  \n",
       "freq             NaN                       NaN                      NaN  \n",
       "mean    9.692010e+04                 50.081029                79.595818  \n",
       "std     1.539057e+05                 81.010895               140.364626  \n",
       "min     5.000000e+00                  0.000400                 0.000600  \n",
       "25%     6.392500e+03                  1.300000                 4.900000  \n",
       "50%     3.987000e+04                 21.100000                21.500000  \n",
       "75%     1.171330e+05                 61.200000                81.950000  \n",
       "max     1.841066e+06                700.100000               946.400000  "
      ]
     },
     "execution_count": 49,
     "metadata": {},
     "output_type": "execute_result"
    }
   ],
   "source": [
    "#see descriptive statistics for each column of complete_df\n",
    "complete_df.describe(include='all')"
   ]
  },
  {
   "cell_type": "code",
   "execution_count": 30,
   "metadata": {},
   "outputs": [
    {
     "data": {
      "image/png": "[encoded data removed]",
      "text/plain": [
       "<Figure size 1152x576 with 9 Axes>"
      ]
     },
     "metadata": {
      "needs_background": "light"
     },
     "output_type": "display_data"
    }
   ],
   "source": [
    "#quick visual check to see patterns\n",
    "histograms = complete_df.hist(figsize=(16,8))"
   ]
  },
  {
   "cell_type": "code",
   "execution_count": 31,
   "metadata": {},
   "outputs": [
    {
     "data": {
      "text/plain": [
       "Text(0, 0.5, 'Frequency')"
      ]
     },
     "execution_count": 31,
     "metadata": {},
     "output_type": "execute_result"
    },
    {
     "data": {
      "image/png": "[encoded data removed]",
      "text/plain": [
       "<Figure size 432x288 with 1 Axes>"
      ]
     },
     "metadata": {
      "needs_background": "light"
     },
     "output_type": "display_data"
    }
   ],
   "source": [
    "#zone in to see better frequency of Domestic Sales\n",
    "fig=complete_df.hist(column='Domestic Gross Million $', bins=30, grid=True, rwidth=.9, color='purple')\n",
    "fig[0][0].set_xlabel(\"Domestic Sales Gross\")\n",
    "fig[0][0].set_ylabel(\"Frequency\")"
   ]
  },
  {
   "cell_type": "code",
   "execution_count": 32,
   "metadata": {},
   "outputs": [
    {
     "data": {
      "text/plain": [
       "Text(0.5, 1.0, 'Gross Domestic Sales')"
      ]
     },
     "execution_count": 32,
     "metadata": {},
     "output_type": "execute_result"
    },
    {
     "data": {
      "image/png": "[encoded data removed]",
      "text/plain": [
       "<Figure size 432x432 with 1 Axes>"
      ]
     },
     "metadata": {
      "needs_background": "light"
     },
     "output_type": "display_data"
    }
   ],
   "source": [
    "#boxplot of Domestic Gross Sales\n",
    "domgrossbp=complete_df.boxplot(column='Domestic Gross Million $', figsize=(6,6))\n",
    "plt.title('Gross Domestic Sales')"
   ]
  },
  {
   "cell_type": "code",
   "execution_count": 33,
   "metadata": {},
   "outputs": [
    {
     "data": {
      "text/plain": [
       "Text(0, 0.5, 'Frequency')"
      ]
     },
     "execution_count": 33,
     "metadata": {},
     "output_type": "execute_result"
    },
    {
     "data": {
      "image/png": "[encoded data removed]",
      "text/plain": [
       "<Figure size 432x288 with 1 Axes>"
      ]
     },
     "metadata": {
      "needs_background": "light"
     },
     "output_type": "display_data"
    }
   ],
   "source": [
    "#zone in to see better frequency of Foreign Sales\n",
    "figb=complete_df.hist(column='Foreign Gross Million $', bins=18, grid=True, rwidth=.9, color='green')\n",
    "figb[0][0].set_xlabel(\"Foreign Sales Gross\")\n",
    "figb[0][0].set_ylabel(\"Frequency\")"
   ]
  },
  {
   "cell_type": "code",
   "execution_count": 34,
   "metadata": {},
   "outputs": [
    {
     "data": {
      "text/plain": [
       "Text(0.5, 1.0, 'Foreign Gross Sales')"
      ]
     },
     "execution_count": 34,
     "metadata": {},
     "output_type": "execute_result"
    },
    {
     "data": {
      "image/png": "[encoded data removed]",
      "text/plain": [
       "<Figure size 288x432 with 1 Axes>"
      ]
     },
     "metadata": {
      "needs_background": "light"
     },
     "output_type": "display_data"
    }
   ],
   "source": [
    "#boxplot of Foreign Gross Sales\n",
    "foreigngrossbp=complete_df.boxplot(column='Foreign Gross Million $', figsize=(4,6))\n",
    "plt.title('Foreign Gross Sales')"
   ]
  },
  {
   "cell_type": "code",
   "execution_count": 35,
   "metadata": {},
   "outputs": [
    {
     "data": {
      "text/plain": [
       "Text(0.5, 1.0, 'Average Rating ')"
      ]
     },
     "execution_count": 35,
     "metadata": {},
     "output_type": "execute_result"
    },
    {
     "data": {
      "image/png": "[encoded data removed]",
      "text/plain": [
       "<Figure size 432x288 with 1 Axes>"
      ]
     },
     "metadata": {
      "needs_background": "light"
     },
     "output_type": "display_data"
    }
   ],
   "source": [
    "#zone in to see frequency of average ratings\n",
    "figc=complete_df.hist(column='averagerating', bins=10, grid=True, rwidth=10, color='orange')\n",
    "figc[0][0].set_xlabel(\"Average Rating\")\n",
    "figc[0][0].set_ylabel(\"Frequency\")\n",
    "figc[0][0].set_title('Average Rating ')"
   ]
  },
  {
   "cell_type": "code",
   "execution_count": 36,
   "metadata": {},
   "outputs": [
    {
     "data": {
      "text/plain": [
       "Text(0.5, 1.0, 'Average Rating')"
      ]
     },
     "execution_count": 36,
     "metadata": {},
     "output_type": "execute_result"
    },
    {
     "data": {
      "image/png": "[encoded data removed]",
      "text/plain": [
       "<Figure size 360x432 with 1 Axes>"
      ]
     },
     "metadata": {
      "needs_background": "light"
     },
     "output_type": "display_data"
    }
   ],
   "source": [
    "#boxplot of average ratings data\n",
    "averatingbp=complete_df.boxplot(column='averagerating', figsize=(5, 6))\n",
    "plt.title('Average Rating')"
   ]
  },
  {
   "cell_type": "code",
   "execution_count": 37,
   "metadata": {},
   "outputs": [
    {
     "data": {
      "text/plain": [
       "Index(['year', 'start_year', 'runtime_minutes', 'genres', 'averagerating',\n",
       "       'numvotes', 'Domestic Gross Million $', 'Foreign Gross Million $'],\n",
       "      dtype='object')"
      ]
     },
     "execution_count": 37,
     "metadata": {},
     "output_type": "execute_result"
    }
   ],
   "source": [
    "#check column names for further analysis on data\n",
    "complete_df.columns"
   ]
  },
  {
   "cell_type": "code",
   "execution_count": 40,
   "metadata": {},
   "outputs": [
    {
     "data": {
      "text/html": [
       "<div>\n",
       "<style scoped>\n",
       "    .dataframe tbody tr th:only-of-type {\n",
       "        vertical-align: middle;\n",
       "    }\n",
       "\n",
       "    .dataframe tbody tr th {\n",
       "        vertical-align: top;\n",
       "    }\n",
       "\n",
       "    .dataframe thead th {\n",
       "        text-align: right;\n",
       "    }\n",
       "</style>\n",
       "<table border=\"1\" class=\"dataframe\">\n",
       "  <thead>\n",
       "    <tr style=\"text-align: right;\">\n",
       "      <th></th>\n",
       "      <th>genres</th>\n",
       "      <th>averagerating</th>\n",
       "    </tr>\n",
       "  </thead>\n",
       "  <tbody>\n",
       "    <tr>\n",
       "      <th>The Runaways</th>\n",
       "      <td>Adventure</td>\n",
       "      <td>9.2</td>\n",
       "    </tr>\n",
       "    <tr>\n",
       "      <th>The Wall</th>\n",
       "      <td>Documentary</td>\n",
       "      <td>9.2</td>\n",
       "    </tr>\n",
       "    <tr>\n",
       "      <th>Burn the Stage: The Movie</th>\n",
       "      <td>Documentary,Music</td>\n",
       "      <td>8.8</td>\n",
       "    </tr>\n",
       "    <tr>\n",
       "      <th>Inception</th>\n",
       "      <td>Action,Adventure,Sci-Fi</td>\n",
       "      <td>8.8</td>\n",
       "    </tr>\n",
       "    <tr>\n",
       "      <th>Coriolanus</th>\n",
       "      <td>Drama,History,War</td>\n",
       "      <td>8.7</td>\n",
       "    </tr>\n",
       "    <tr>\n",
       "      <th>Eyes Wide Open</th>\n",
       "      <td>Documentary,History</td>\n",
       "      <td>8.7</td>\n",
       "    </tr>\n",
       "    <tr>\n",
       "      <th>Interstellar</th>\n",
       "      <td>Adventure,Drama,Sci-Fi</td>\n",
       "      <td>8.6</td>\n",
       "    </tr>\n",
       "    <tr>\n",
       "      <th>Kin</th>\n",
       "      <td>Drama,Music</td>\n",
       "      <td>8.6</td>\n",
       "    </tr>\n",
       "    <tr>\n",
       "      <th>Senna</th>\n",
       "      <td>Biography,Documentary,Sport</td>\n",
       "      <td>8.6</td>\n",
       "    </tr>\n",
       "    <tr>\n",
       "      <th>Avengers: Infinity War</th>\n",
       "      <td>Action,Adventure,Sci-Fi</td>\n",
       "      <td>8.5</td>\n",
       "    </tr>\n",
       "    <tr>\n",
       "      <th>Dangal</th>\n",
       "      <td>Action,Biography,Drama</td>\n",
       "      <td>8.5</td>\n",
       "    </tr>\n",
       "    <tr>\n",
       "      <th>The Tempest</th>\n",
       "      <td>Comedy,Drama</td>\n",
       "      <td>8.5</td>\n",
       "    </tr>\n",
       "    <tr>\n",
       "      <th>Whiplash</th>\n",
       "      <td>Drama,Music</td>\n",
       "      <td>8.5</td>\n",
       "    </tr>\n",
       "    <tr>\n",
       "      <th>Coco</th>\n",
       "      <td>Adventure,Animation,Comedy</td>\n",
       "      <td>8.4</td>\n",
       "    </tr>\n",
       "    <tr>\n",
       "      <th>Django Unchained</th>\n",
       "      <td>Drama,Western</td>\n",
       "      <td>8.4</td>\n",
       "    </tr>\n",
       "    <tr>\n",
       "      <th>Red</th>\n",
       "      <td>Drama</td>\n",
       "      <td>8.4</td>\n",
       "    </tr>\n",
       "    <tr>\n",
       "      <th>Sleepless</th>\n",
       "      <td>Drama</td>\n",
       "      <td>8.4</td>\n",
       "    </tr>\n",
       "    <tr>\n",
       "      <th>Stronger</th>\n",
       "      <td>Action,Sport</td>\n",
       "      <td>8.4</td>\n",
       "    </tr>\n",
       "    <tr>\n",
       "      <th>The Dark Knight Rises</th>\n",
       "      <td>Action,Thriller</td>\n",
       "      <td>8.4</td>\n",
       "    </tr>\n",
       "    <tr>\n",
       "      <th>Your Name.</th>\n",
       "      <td>Animation,Drama,Fantasy</td>\n",
       "      <td>8.4</td>\n",
       "    </tr>\n",
       "  </tbody>\n",
       "</table>\n",
       "</div>"
      ],
      "text/plain": [
       "                                                genres  averagerating\n",
       "The Runaways                                 Adventure            9.2\n",
       "The Wall                                   Documentary            9.2\n",
       "Burn the Stage: The Movie            Documentary,Music            8.8\n",
       "Inception                      Action,Adventure,Sci-Fi            8.8\n",
       "Coriolanus                           Drama,History,War            8.7\n",
       "Eyes Wide Open                     Documentary,History            8.7\n",
       "Interstellar                    Adventure,Drama,Sci-Fi            8.6\n",
       "Kin                                        Drama,Music            8.6\n",
       "Senna                      Biography,Documentary,Sport            8.6\n",
       "Avengers: Infinity War         Action,Adventure,Sci-Fi            8.5\n",
       "Dangal                          Action,Biography,Drama            8.5\n",
       "The Tempest                               Comedy,Drama            8.5\n",
       "Whiplash                                   Drama,Music            8.5\n",
       "Coco                        Adventure,Animation,Comedy            8.4\n",
       "Django Unchained                         Drama,Western            8.4\n",
       "Red                                              Drama            8.4\n",
       "Sleepless                                        Drama            8.4\n",
       "Stronger                                  Action,Sport            8.4\n",
       "The Dark Knight Rises                  Action,Thriller            8.4\n",
       "Your Name.                     Animation,Drama,Fantasy            8.4"
      ]
     },
     "execution_count": 40,
     "metadata": {},
     "output_type": "execute_result"
    }
   ],
   "source": [
    "#create dataset from top 20 values in AVERAGERATING and display by genre\n",
    "averageratingtop20_len=complete_df.nlargest(20,'averagerating')[['genres','averagerating']]\\\n",
    "\n",
    "averageratingtop20_len"
   ]
  },
  {
   "cell_type": "code",
   "execution_count": 41,
   "metadata": {},
   "outputs": [
    {
     "data": {
      "text/plain": [
       "<matplotlib.legend.Legend at 0x1f48f21aac0>"
      ]
     },
     "execution_count": 41,
     "metadata": {},
     "output_type": "execute_result"
    },
    {
     "data": {
      "image/png": "[encoded data removed]",
      "text/plain": [
       "<Figure size 432x288 with 1 Axes>"
      ]
     },
     "metadata": {
      "needs_background": "light"
     },
     "output_type": "display_data"
    }
   ],
   "source": [
    "#create horizontal barchart of top 20 genres according to the average ratings\n",
    "sns.barplot(x='averagerating', y=averageratingtop20_len.index,data=averageratingtop20_len,hue='genres', dodge=False).set(title='Top 20 Genres by Average Rating')\n",
    "plt.legend(bbox_to_anchor=(1.05,1),loc=2)\n"
   ]
  },
  {
   "cell_type": "code",
   "execution_count": 42,
   "metadata": {},
   "outputs": [
    {
     "data": {
      "text/html": [
       "<div>\n",
       "<style scoped>\n",
       "    .dataframe tbody tr th:only-of-type {\n",
       "        vertical-align: middle;\n",
       "    }\n",
       "\n",
       "    .dataframe tbody tr th {\n",
       "        vertical-align: top;\n",
       "    }\n",
       "\n",
       "    .dataframe thead th {\n",
       "        text-align: right;\n",
       "    }\n",
       "</style>\n",
       "<table border=\"1\" class=\"dataframe\">\n",
       "  <thead>\n",
       "    <tr style=\"text-align: right;\">\n",
       "      <th></th>\n",
       "      <th>genres</th>\n",
       "      <th>numvotes</th>\n",
       "      <th>year</th>\n",
       "    </tr>\n",
       "  </thead>\n",
       "  <tbody>\n",
       "    <tr>\n",
       "      <th>Inception</th>\n",
       "      <td>Action,Adventure,Sci-Fi</td>\n",
       "      <td>1841066.0</td>\n",
       "      <td>2010</td>\n",
       "    </tr>\n",
       "    <tr>\n",
       "      <th>The Dark Knight Rises</th>\n",
       "      <td>Action,Thriller</td>\n",
       "      <td>1387769.0</td>\n",
       "      <td>2012</td>\n",
       "    </tr>\n",
       "    <tr>\n",
       "      <th>Interstellar</th>\n",
       "      <td>Adventure,Drama,Sci-Fi</td>\n",
       "      <td>1299334.0</td>\n",
       "      <td>2014</td>\n",
       "    </tr>\n",
       "    <tr>\n",
       "      <th>Django Unchained</th>\n",
       "      <td>Drama,Western</td>\n",
       "      <td>1211405.0</td>\n",
       "      <td>2012</td>\n",
       "    </tr>\n",
       "    <tr>\n",
       "      <th>The Wolf of Wall Street</th>\n",
       "      <td>Biography,Crime,Drama</td>\n",
       "      <td>1035358.0</td>\n",
       "      <td>2013</td>\n",
       "    </tr>\n",
       "    <tr>\n",
       "      <th>Shutter Island</th>\n",
       "      <td>Mystery,Thriller</td>\n",
       "      <td>1005960.0</td>\n",
       "      <td>2010</td>\n",
       "    </tr>\n",
       "    <tr>\n",
       "      <th>Guardians of the Galaxy</th>\n",
       "      <td>Action,Adventure,Comedy</td>\n",
       "      <td>948394.0</td>\n",
       "      <td>2014</td>\n",
       "    </tr>\n",
       "    <tr>\n",
       "      <th>Deadpool</th>\n",
       "      <td>Action,Adventure,Comedy</td>\n",
       "      <td>820847.0</td>\n",
       "      <td>2016</td>\n",
       "    </tr>\n",
       "    <tr>\n",
       "      <th>The Hunger Games</th>\n",
       "      <td>Action,Adventure,Sci-Fi</td>\n",
       "      <td>795227.0</td>\n",
       "      <td>2012</td>\n",
       "    </tr>\n",
       "    <tr>\n",
       "      <th>Mad Max: Fury Road</th>\n",
       "      <td>Action,Adventure,Sci-Fi</td>\n",
       "      <td>780910.0</td>\n",
       "      <td>2015</td>\n",
       "    </tr>\n",
       "    <tr>\n",
       "      <th>Gone Girl</th>\n",
       "      <td>Drama,Mystery,Thriller</td>\n",
       "      <td>761592.0</td>\n",
       "      <td>2014</td>\n",
       "    </tr>\n",
       "    <tr>\n",
       "      <th>The Hobbit: An Unexpected Journey</th>\n",
       "      <td>Adventure,Family,Fantasy</td>\n",
       "      <td>719629.0</td>\n",
       "      <td>2012</td>\n",
       "    </tr>\n",
       "    <tr>\n",
       "      <th>Gravity</th>\n",
       "      <td>Drama,Sci-Fi,Thriller</td>\n",
       "      <td>710018.0</td>\n",
       "      <td>2013</td>\n",
       "    </tr>\n",
       "    <tr>\n",
       "      <th>Iron Man 3</th>\n",
       "      <td>Action,Adventure,Sci-Fi</td>\n",
       "      <td>692794.0</td>\n",
       "      <td>2013</td>\n",
       "    </tr>\n",
       "    <tr>\n",
       "      <th>Thor</th>\n",
       "      <td>Action,Adventure,Fantasy</td>\n",
       "      <td>683264.0</td>\n",
       "      <td>2011</td>\n",
       "    </tr>\n",
       "    <tr>\n",
       "      <th>Toy Story 3</th>\n",
       "      <td>Adventure,Animation,Comedy</td>\n",
       "      <td>682218.0</td>\n",
       "      <td>2010</td>\n",
       "    </tr>\n",
       "    <tr>\n",
       "      <th>The Martian</th>\n",
       "      <td>Adventure,Drama,Sci-Fi</td>\n",
       "      <td>680116.0</td>\n",
       "      <td>2015</td>\n",
       "    </tr>\n",
       "    <tr>\n",
       "      <th>Avengers: Infinity War</th>\n",
       "      <td>Action,Adventure,Sci-Fi</td>\n",
       "      <td>670926.0</td>\n",
       "      <td>2018</td>\n",
       "    </tr>\n",
       "    <tr>\n",
       "      <th>Captain America: The First Avenger</th>\n",
       "      <td>Action,Adventure,Sci-Fi</td>\n",
       "      <td>668137.0</td>\n",
       "      <td>2011</td>\n",
       "    </tr>\n",
       "    <tr>\n",
       "      <th>Captain America: The Winter Soldier</th>\n",
       "      <td>Action,Adventure,Sci-Fi</td>\n",
       "      <td>666252.0</td>\n",
       "      <td>2014</td>\n",
       "    </tr>\n",
       "  </tbody>\n",
       "</table>\n",
       "</div>"
      ],
      "text/plain": [
       "                                                         genres   numvotes  \\\n",
       "Inception                               Action,Adventure,Sci-Fi  1841066.0   \n",
       "The Dark Knight Rises                           Action,Thriller  1387769.0   \n",
       "Interstellar                             Adventure,Drama,Sci-Fi  1299334.0   \n",
       "Django Unchained                                  Drama,Western  1211405.0   \n",
       "The Wolf of Wall Street                   Biography,Crime,Drama  1035358.0   \n",
       "Shutter Island                                 Mystery,Thriller  1005960.0   \n",
       "Guardians of the Galaxy                 Action,Adventure,Comedy   948394.0   \n",
       "Deadpool                                Action,Adventure,Comedy   820847.0   \n",
       "The Hunger Games                        Action,Adventure,Sci-Fi   795227.0   \n",
       "Mad Max: Fury Road                      Action,Adventure,Sci-Fi   780910.0   \n",
       "Gone Girl                                Drama,Mystery,Thriller   761592.0   \n",
       "The Hobbit: An Unexpected Journey      Adventure,Family,Fantasy   719629.0   \n",
       "Gravity                                   Drama,Sci-Fi,Thriller   710018.0   \n",
       "Iron Man 3                              Action,Adventure,Sci-Fi   692794.0   \n",
       "Thor                                   Action,Adventure,Fantasy   683264.0   \n",
       "Toy Story 3                          Adventure,Animation,Comedy   682218.0   \n",
       "The Martian                              Adventure,Drama,Sci-Fi   680116.0   \n",
       "Avengers: Infinity War                  Action,Adventure,Sci-Fi   670926.0   \n",
       "Captain America: The First Avenger      Action,Adventure,Sci-Fi   668137.0   \n",
       "Captain America: The Winter Soldier     Action,Adventure,Sci-Fi   666252.0   \n",
       "\n",
       "                                     year  \n",
       "Inception                            2010  \n",
       "The Dark Knight Rises                2012  \n",
       "Interstellar                         2014  \n",
       "Django Unchained                     2012  \n",
       "The Wolf of Wall Street              2013  \n",
       "Shutter Island                       2010  \n",
       "Guardians of the Galaxy              2014  \n",
       "Deadpool                             2016  \n",
       "The Hunger Games                     2012  \n",
       "Mad Max: Fury Road                   2015  \n",
       "Gone Girl                            2014  \n",
       "The Hobbit: An Unexpected Journey    2012  \n",
       "Gravity                              2013  \n",
       "Iron Man 3                           2013  \n",
       "Thor                                 2011  \n",
       "Toy Story 3                          2010  \n",
       "The Martian                          2015  \n",
       "Avengers: Infinity War               2018  \n",
       "Captain America: The First Avenger   2011  \n",
       "Captain America: The Winter Soldier  2014  "
      ]
     },
     "execution_count": 42,
     "metadata": {},
     "output_type": "execute_result"
    }
   ],
   "source": [
    "##create dataset from top 20 values in number of votes and display by genre\n",
    "top20_len=complete_df.nlargest(20,'numvotes')[['genres','numvotes','year']]\n",
    "top20_len"
   ]
  },
  {
   "cell_type": "code",
   "execution_count": 43,
   "metadata": {},
   "outputs": [
    {
     "data": {
      "text/plain": [
       "<matplotlib.legend.Legend at 0x1f4900a4be0>"
      ]
     },
     "execution_count": 43,
     "metadata": {},
     "output_type": "execute_result"
    },
    {
     "data": {
      "image/png": "[encoded data removed]",
      "text/plain": [
       "<Figure size 432x288 with 1 Axes>"
      ]
     },
     "metadata": {
      "needs_background": "light"
     },
     "output_type": "display_data"
    }
   ],
   "source": [
    "##create horizontal barchart of top 20 genres according to the number of votes\n",
    "sns.barplot(x='numvotes', y=top20_len.index,data=top20_len,hue='genres',dodge=False).set(title='Top 20 Genres by Number of Votes')\n",
    "plt.legend(bbox_to_anchor=(1.05,1),loc=2)"
   ]
  },
  {
   "cell_type": "code",
   "execution_count": 44,
   "metadata": {},
   "outputs": [
    {
     "data": {
      "text/html": [
       "<div>\n",
       "<style scoped>\n",
       "    .dataframe tbody tr th:only-of-type {\n",
       "        vertical-align: middle;\n",
       "    }\n",
       "\n",
       "    .dataframe tbody tr th {\n",
       "        vertical-align: top;\n",
       "    }\n",
       "\n",
       "    .dataframe thead th {\n",
       "        text-align: right;\n",
       "    }\n",
       "</style>\n",
       "<table border=\"1\" class=\"dataframe\">\n",
       "  <thead>\n",
       "    <tr style=\"text-align: right;\">\n",
       "      <th></th>\n",
       "      <th>genres</th>\n",
       "      <th>Domestic Gross Million $</th>\n",
       "    </tr>\n",
       "  </thead>\n",
       "  <tbody>\n",
       "    <tr>\n",
       "      <th>Black Panther</th>\n",
       "      <td>Action,Adventure,Sci-Fi</td>\n",
       "      <td>700.1</td>\n",
       "    </tr>\n",
       "    <tr>\n",
       "      <th>Avengers: Infinity War</th>\n",
       "      <td>Action,Adventure,Sci-Fi</td>\n",
       "      <td>678.8</td>\n",
       "    </tr>\n",
       "    <tr>\n",
       "      <th>Jurassic World</th>\n",
       "      <td>Action,Adventure,Sci-Fi</td>\n",
       "      <td>652.3</td>\n",
       "    </tr>\n",
       "    <tr>\n",
       "      <th>Star Wars: The Last Jedi</th>\n",
       "      <td>Action,Adventure,Fantasy</td>\n",
       "      <td>620.2</td>\n",
       "    </tr>\n",
       "    <tr>\n",
       "      <th>Incredibles 2</th>\n",
       "      <td>Action,Adventure,Animation</td>\n",
       "      <td>608.6</td>\n",
       "    </tr>\n",
       "    <tr>\n",
       "      <th>Rogue One: A Star Wars Story</th>\n",
       "      <td>Action,Adventure,Sci-Fi</td>\n",
       "      <td>532.2</td>\n",
       "    </tr>\n",
       "    <tr>\n",
       "      <th>Finding Dory</th>\n",
       "      <td>Adventure,Animation,Comedy</td>\n",
       "      <td>486.3</td>\n",
       "    </tr>\n",
       "    <tr>\n",
       "      <th>Avengers: Age of Ultron</th>\n",
       "      <td>Action,Adventure,Sci-Fi</td>\n",
       "      <td>459.0</td>\n",
       "    </tr>\n",
       "    <tr>\n",
       "      <th>The Dark Knight Rises</th>\n",
       "      <td>Action,Thriller</td>\n",
       "      <td>448.1</td>\n",
       "    </tr>\n",
       "    <tr>\n",
       "      <th>The Hunger Games: Catching Fire</th>\n",
       "      <td>Action,Adventure,Sci-Fi</td>\n",
       "      <td>424.7</td>\n",
       "    </tr>\n",
       "    <tr>\n",
       "      <th>Jurassic World: Fallen Kingdom</th>\n",
       "      <td>Action,Adventure,Sci-Fi</td>\n",
       "      <td>417.7</td>\n",
       "    </tr>\n",
       "    <tr>\n",
       "      <th>Toy Story 3</th>\n",
       "      <td>Adventure,Animation,Comedy</td>\n",
       "      <td>415.0</td>\n",
       "    </tr>\n",
       "    <tr>\n",
       "      <th>Wonder Woman</th>\n",
       "      <td>Action,Adventure,Fantasy</td>\n",
       "      <td>412.6</td>\n",
       "    </tr>\n",
       "    <tr>\n",
       "      <th>Wonder Woman</th>\n",
       "      <td>Sci-Fi</td>\n",
       "      <td>412.6</td>\n",
       "    </tr>\n",
       "    <tr>\n",
       "      <th>Wonder Woman</th>\n",
       "      <td>Documentary,Drama,Sport</td>\n",
       "      <td>412.6</td>\n",
       "    </tr>\n",
       "    <tr>\n",
       "      <th>Iron Man 3</th>\n",
       "      <td>Action,Adventure,Sci-Fi</td>\n",
       "      <td>409.0</td>\n",
       "    </tr>\n",
       "    <tr>\n",
       "      <th>Captain America: Civil War</th>\n",
       "      <td>Action,Adventure,Sci-Fi</td>\n",
       "      <td>408.1</td>\n",
       "    </tr>\n",
       "    <tr>\n",
       "      <th>The Hunger Games</th>\n",
       "      <td>Action,Adventure,Sci-Fi</td>\n",
       "      <td>408.0</td>\n",
       "    </tr>\n",
       "    <tr>\n",
       "      <th>Jumanji: Welcome to the Jungle</th>\n",
       "      <td>Action,Adventure,Comedy</td>\n",
       "      <td>404.5</td>\n",
       "    </tr>\n",
       "    <tr>\n",
       "      <th>Frozen</th>\n",
       "      <td>Adventure,Drama,Sport</td>\n",
       "      <td>400.7</td>\n",
       "    </tr>\n",
       "  </tbody>\n",
       "</table>\n",
       "</div>"
      ],
      "text/plain": [
       "                                                     genres  \\\n",
       "Black Panther                       Action,Adventure,Sci-Fi   \n",
       "Avengers: Infinity War              Action,Adventure,Sci-Fi   \n",
       "Jurassic World                      Action,Adventure,Sci-Fi   \n",
       "Star Wars: The Last Jedi           Action,Adventure,Fantasy   \n",
       "Incredibles 2                    Action,Adventure,Animation   \n",
       "Rogue One: A Star Wars Story        Action,Adventure,Sci-Fi   \n",
       "Finding Dory                     Adventure,Animation,Comedy   \n",
       "Avengers: Age of Ultron             Action,Adventure,Sci-Fi   \n",
       "The Dark Knight Rises                       Action,Thriller   \n",
       "The Hunger Games: Catching Fire     Action,Adventure,Sci-Fi   \n",
       "Jurassic World: Fallen Kingdom      Action,Adventure,Sci-Fi   \n",
       "Toy Story 3                      Adventure,Animation,Comedy   \n",
       "Wonder Woman                       Action,Adventure,Fantasy   \n",
       "Wonder Woman                                         Sci-Fi   \n",
       "Wonder Woman                        Documentary,Drama,Sport   \n",
       "Iron Man 3                          Action,Adventure,Sci-Fi   \n",
       "Captain America: Civil War          Action,Adventure,Sci-Fi   \n",
       "The Hunger Games                    Action,Adventure,Sci-Fi   \n",
       "Jumanji: Welcome to the Jungle      Action,Adventure,Comedy   \n",
       "Frozen                                Adventure,Drama,Sport   \n",
       "\n",
       "                                 Domestic Gross Million $  \n",
       "Black Panther                                       700.1  \n",
       "Avengers: Infinity War                              678.8  \n",
       "Jurassic World                                      652.3  \n",
       "Star Wars: The Last Jedi                            620.2  \n",
       "Incredibles 2                                       608.6  \n",
       "Rogue One: A Star Wars Story                        532.2  \n",
       "Finding Dory                                        486.3  \n",
       "Avengers: Age of Ultron                             459.0  \n",
       "The Dark Knight Rises                               448.1  \n",
       "The Hunger Games: Catching Fire                     424.7  \n",
       "Jurassic World: Fallen Kingdom                      417.7  \n",
       "Toy Story 3                                         415.0  \n",
       "Wonder Woman                                        412.6  \n",
       "Wonder Woman                                        412.6  \n",
       "Wonder Woman                                        412.6  \n",
       "Iron Man 3                                          409.0  \n",
       "Captain America: Civil War                          408.1  \n",
       "The Hunger Games                                    408.0  \n",
       "Jumanji: Welcome to the Jungle                      404.5  \n",
       "Frozen                                              400.7  "
      ]
     },
     "execution_count": 44,
     "metadata": {},
     "output_type": "execute_result"
    }
   ],
   "source": [
    "#create dataset from top 20 Domestic Gross sales and display by genre\n",
    "top20_domestic=complete_df.nlargest(20,'Domestic Gross Million $')[['genres','Domestic Gross Million $']]\n",
    "top20_domestic"
   ]
  },
  {
   "cell_type": "code",
   "execution_count": 45,
   "metadata": {},
   "outputs": [
    {
     "data": {
      "text/plain": [
       "<matplotlib.legend.Legend at 0x1f4905a6340>"
      ]
     },
     "execution_count": 45,
     "metadata": {},
     "output_type": "execute_result"
    },
    {
     "data": {
      "image/png": "[encoded data removed]",
      "text/plain": [
       "<Figure size 432x288 with 1 Axes>"
      ]
     },
     "metadata": {
      "needs_background": "light"
     },
     "output_type": "display_data"
    }
   ],
   "source": [
    "#create horizontal barchart of top 20 genres according to the Domestic Gross Sales\n",
    "sns.barplot(x='Domestic Gross Million $', y=top20_domestic.index,data=top20_domestic,hue='genres',dodge=False).set(title='Top 20 Genres by Domestic Sales')\n",
    "plt.legend(bbox_to_anchor=(1.05,1),loc=2)"
   ]
  },
  {
   "cell_type": "code",
   "execution_count": 46,
   "metadata": {},
   "outputs": [
    {
     "data": {
      "text/html": [
       "<div>\n",
       "<style scoped>\n",
       "    .dataframe tbody tr th:only-of-type {\n",
       "        vertical-align: middle;\n",
       "    }\n",
       "\n",
       "    .dataframe tbody tr th {\n",
       "        vertical-align: top;\n",
       "    }\n",
       "\n",
       "    .dataframe thead th {\n",
       "        text-align: right;\n",
       "    }\n",
       "</style>\n",
       "<table border=\"1\" class=\"dataframe\">\n",
       "  <thead>\n",
       "    <tr style=\"text-align: right;\">\n",
       "      <th></th>\n",
       "      <th>genres</th>\n",
       "      <th>Foreign Gross Million $</th>\n",
       "    </tr>\n",
       "  </thead>\n",
       "  <tbody>\n",
       "    <tr>\n",
       "      <th>Avengers: Age of Ultron</th>\n",
       "      <td>Action,Adventure,Sci-Fi</td>\n",
       "      <td>946.4</td>\n",
       "    </tr>\n",
       "    <tr>\n",
       "      <th>Jurassic World: Fallen Kingdom</th>\n",
       "      <td>Action,Adventure,Sci-Fi</td>\n",
       "      <td>891.8</td>\n",
       "    </tr>\n",
       "    <tr>\n",
       "      <th>Frozen</th>\n",
       "      <td>Adventure,Drama,Sport</td>\n",
       "      <td>875.7</td>\n",
       "    </tr>\n",
       "    <tr>\n",
       "      <th>Frozen</th>\n",
       "      <td>Fantasy,Romance</td>\n",
       "      <td>875.7</td>\n",
       "    </tr>\n",
       "    <tr>\n",
       "      <th>Frozen</th>\n",
       "      <td>Adventure,Animation,Comedy</td>\n",
       "      <td>875.7</td>\n",
       "    </tr>\n",
       "    <tr>\n",
       "      <th>Wolf Warrior 2</th>\n",
       "      <td>Action,Drama,Thriller</td>\n",
       "      <td>867.6</td>\n",
       "    </tr>\n",
       "    <tr>\n",
       "      <th>Transformers: Age of Extinction</th>\n",
       "      <td>Action,Adventure,Sci-Fi</td>\n",
       "      <td>858.6</td>\n",
       "    </tr>\n",
       "    <tr>\n",
       "      <th>Minions</th>\n",
       "      <td>Adventure,Animation,Comedy</td>\n",
       "      <td>823.4</td>\n",
       "    </tr>\n",
       "    <tr>\n",
       "      <th>Aquaman</th>\n",
       "      <td>Action,Adventure,Fantasy</td>\n",
       "      <td>812.7</td>\n",
       "    </tr>\n",
       "    <tr>\n",
       "      <th>Iron Man 3</th>\n",
       "      <td>Action,Adventure,Sci-Fi</td>\n",
       "      <td>805.8</td>\n",
       "    </tr>\n",
       "    <tr>\n",
       "      <th>Pirates of the Caribbean: On Stranger Tides</th>\n",
       "      <td>Action,Adventure,Fantasy</td>\n",
       "      <td>804.6</td>\n",
       "    </tr>\n",
       "    <tr>\n",
       "      <th>Skyfall</th>\n",
       "      <td>Action,Adventure,Thriller</td>\n",
       "      <td>804.2</td>\n",
       "    </tr>\n",
       "    <tr>\n",
       "      <th>Transformers: Dark of the Moon</th>\n",
       "      <td>Action,Adventure,Sci-Fi</td>\n",
       "      <td>771.4</td>\n",
       "    </tr>\n",
       "    <tr>\n",
       "      <th>Despicable Me 3</th>\n",
       "      <td>Adventure,Animation,Comedy</td>\n",
       "      <td>770.2</td>\n",
       "    </tr>\n",
       "    <tr>\n",
       "      <th>Captain America: Civil War</th>\n",
       "      <td>Action,Adventure,Sci-Fi</td>\n",
       "      <td>745.2</td>\n",
       "    </tr>\n",
       "    <tr>\n",
       "      <th>The Hobbit: An Unexpected Journey</th>\n",
       "      <td>Adventure,Family,Fantasy</td>\n",
       "      <td>718.1</td>\n",
       "    </tr>\n",
       "    <tr>\n",
       "      <th>Ice Age: Continental Drift</th>\n",
       "      <td>Adventure,Animation,Comedy</td>\n",
       "      <td>715.9</td>\n",
       "    </tr>\n",
       "    <tr>\n",
       "      <th>Star Wars: The Last Jedi</th>\n",
       "      <td>Action,Adventure,Fantasy</td>\n",
       "      <td>712.4</td>\n",
       "    </tr>\n",
       "    <tr>\n",
       "      <th>The Hobbit: The Battle of the Five Armies</th>\n",
       "      <td>Adventure,Fantasy</td>\n",
       "      <td>700.9</td>\n",
       "    </tr>\n",
       "    <tr>\n",
       "      <th>The Hobbit: The Desolation of Smaug</th>\n",
       "      <td>Adventure,Fantasy</td>\n",
       "      <td>700.0</td>\n",
       "    </tr>\n",
       "  </tbody>\n",
       "</table>\n",
       "</div>"
      ],
      "text/plain": [
       "                                                                 genres  \\\n",
       "Avengers: Age of Ultron                         Action,Adventure,Sci-Fi   \n",
       "Jurassic World: Fallen Kingdom                  Action,Adventure,Sci-Fi   \n",
       "Frozen                                            Adventure,Drama,Sport   \n",
       "Frozen                                                  Fantasy,Romance   \n",
       "Frozen                                       Adventure,Animation,Comedy   \n",
       "Wolf Warrior 2                                    Action,Drama,Thriller   \n",
       "Transformers: Age of Extinction                 Action,Adventure,Sci-Fi   \n",
       "Minions                                      Adventure,Animation,Comedy   \n",
       "Aquaman                                        Action,Adventure,Fantasy   \n",
       "Iron Man 3                                      Action,Adventure,Sci-Fi   \n",
       "Pirates of the Caribbean: On Stranger Tides    Action,Adventure,Fantasy   \n",
       "Skyfall                                       Action,Adventure,Thriller   \n",
       "Transformers: Dark of the Moon                  Action,Adventure,Sci-Fi   \n",
       "Despicable Me 3                              Adventure,Animation,Comedy   \n",
       "Captain America: Civil War                      Action,Adventure,Sci-Fi   \n",
       "The Hobbit: An Unexpected Journey              Adventure,Family,Fantasy   \n",
       "Ice Age: Continental Drift                   Adventure,Animation,Comedy   \n",
       "Star Wars: The Last Jedi                       Action,Adventure,Fantasy   \n",
       "The Hobbit: The Battle of the Five Armies             Adventure,Fantasy   \n",
       "The Hobbit: The Desolation of Smaug                   Adventure,Fantasy   \n",
       "\n",
       "                                             Foreign Gross Million $  \n",
       "Avengers: Age of Ultron                                        946.4  \n",
       "Jurassic World: Fallen Kingdom                                 891.8  \n",
       "Frozen                                                         875.7  \n",
       "Frozen                                                         875.7  \n",
       "Frozen                                                         875.7  \n",
       "Wolf Warrior 2                                                 867.6  \n",
       "Transformers: Age of Extinction                                858.6  \n",
       "Minions                                                        823.4  \n",
       "Aquaman                                                        812.7  \n",
       "Iron Man 3                                                     805.8  \n",
       "Pirates of the Caribbean: On Stranger Tides                    804.6  \n",
       "Skyfall                                                        804.2  \n",
       "Transformers: Dark of the Moon                                 771.4  \n",
       "Despicable Me 3                                                770.2  \n",
       "Captain America: Civil War                                     745.2  \n",
       "The Hobbit: An Unexpected Journey                              718.1  \n",
       "Ice Age: Continental Drift                                     715.9  \n",
       "Star Wars: The Last Jedi                                       712.4  \n",
       "The Hobbit: The Battle of the Five Armies                      700.9  \n",
       "The Hobbit: The Desolation of Smaug                            700.0  "
      ]
     },
     "execution_count": 46,
     "metadata": {},
     "output_type": "execute_result"
    }
   ],
   "source": [
    "#create dataset from top 20 Foreign Gross sales and display by genre\n",
    "top20_foreign=complete_df.nlargest(20,'Foreign Gross Million $')[['genres','Foreign Gross Million $']]\n",
    "top20_foreign"
   ]
  },
  {
   "cell_type": "code",
   "execution_count": 47,
   "metadata": {},
   "outputs": [
    {
     "data": {
      "text/plain": [
       "<matplotlib.legend.Legend at 0x1f4909feb80>"
      ]
     },
     "execution_count": 47,
     "metadata": {},
     "output_type": "execute_result"
    },
    {
     "data": {
      "image/png": "[encoded data removed]",
      "text/plain": [
       "<Figure size 432x288 with 1 Axes>"
      ]
     },
     "metadata": {
      "needs_background": "light"
     },
     "output_type": "display_data"
    }
   ],
   "source": [
    "#create horizontal barchart of top 20 genres according to the Foreign Gross Sales\n",
    "sns.barplot(x='Foreign Gross Million $', y=top20_foreign.index,data=top20_foreign,hue='genres',dodge=False).set(title='Top 20 Genres by Foreign Sales')\n",
    "plt.legend(bbox_to_anchor=(1.05,1),loc=2)"
   ]
  },
  {
   "cell_type": "markdown",
   "metadata": {},
   "source": [
    "## Evaluation\n",
    "\n",
    "3 of the above graphs, Domestic Gross Sales, Foreign Gross Sales and Number of Votes clearly show that Adventure, Action and Sci-Fi combination are most successful in Domestic and Foreign Gross Sales and also in the average rating given. \n",
    "Its clear also to see that the adventure genre is popular across the board especially when elements of animation, action and or comedy are also included.\n",
    "\n",
    "The 4th graph showing Top 20 Average Ratings shows Adventure as top as a solo genre.\n",
    "\n",
    "\n",
    "\n",
    "To improve confidence in the results next time I would:-\n",
    "\n",
    "Include the movie classification  This could have narrowed down the target audience the most successful movies were aimed at i.e PG etc.\n",
    "\n",
    "Broken the data into the relevant years to see if there are changes year by year in the top genres of movies, see if audience tastes change over time.\n",
    "\n",
    "\n",
    "\n",
    "\n",
    "***\n"
   ]
  },
  {
   "cell_type": "markdown",
   "metadata": {},
   "source": [
    "## Conclusions\n",
    "\n",
    "This analysis leads to three recommendations regarding types of movies that are successful:-\n",
    "* Movies with the genre combination Action, Adventure & Sci-Fi topped the leaderboard in both Domestic and Foreign Gross Sales, this combination is obviously a hit at the box office worldwide, make this the first type of movie to produce for success.\n",
    "*Movies with Adventure, Animation and Comedy were the next most successful in Foreign Gross Sales and Domestic Sales, use this combination as the next or alternative type of movie to produce.\n",
    "*Movies in the top 20 number of votes yielded slighly different results but Action, Adventure and Sci-Fi combination did come out 1st still. \n",
    "*Adventure genre seems constant in all the above graphs so must be a key element of any movie to be produced.\n",
    "***\n",
    "Questions to consider:\n",
    "* Limitations-Could the same movie be classified into different genres by different audiences? Who classifies the genres for each movie? Can the classification of genres be improved to provide a more benchmark approach?\n",
    "*Future analysis could include the movie classification ie PG, MA etc to see which audience the most successful movies were made for.\n",
    "\n",
    "***"
   ]
  }
 ],
 "metadata": {
  "kernelspec": {
   "display_name": "Python 3",
   "language": "python",
   "name": "python3"
  },
  "language_info": {
   "codemirror_mode": {
    "name": "ipython",
    "version": 3
   },
   "file_extension": ".py",
   "mimetype": "text/x-python",
   "name": "python",
   "nbconvert_exporter": "python",
   "pygments_lexer": "ipython3",
   "version": "3.8.5"
  }
 },
 "nbformat": 4,
 "nbformat_minor": 4
}
